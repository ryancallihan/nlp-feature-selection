{
 "cells": [
  {
   "cell_type": "markdown",
   "metadata": {
    "colab_type": "text",
    "id": "i1UoY29wvLmt"
   },
   "source": [
    "# How Word Embeddings Effect NLP Models\n",
    "\n",
    "This notebook will explore come different feature selection methods for NLP models. It will cover the following topics:\n",
    "\n",
    "- Tokenisation\n",
    "- Stopwords\n",
    "- Zipfian Distributions\n",
    "- Sentiment Analysis\n",
    "- Bag-of-words Vectorisation\n",
    "- tf\\*idf Vectorisation\n",
    "- Subword Encoding\n",
    "- Word Embeddings"
   ]
  },
  {
   "cell_type": "code",
   "execution_count": null,
   "metadata": {
    "colab": {},
    "colab_type": "code",
    "id": "V9nA7DInWIeg"
   },
   "outputs": [],
   "source": [
    "%%capture\n",
    "!pip install unidecode\n",
    "\n",
    "import os\n",
    "from string import punctuation\n",
    "from collections import Counter\n",
    "\n",
    "import nltk\n",
    "import numpy as np\n",
    "import pandas as pd\n",
    "from tqdm import tqdm\n",
    "from string import punctuation\n",
    "from nltk import word_tokenize\n",
    "from unidecode import unidecode\n",
    "from nltk.corpus import stopwords\n",
    "\n",
    "# Models necessary for this workshop\n",
    "!python -m spacy download en_core_web_md\n",
    "nltk.download('punkt')\n",
    "nltk.download('stopwords')\n",
    "\n",
    "# Download data\n",
    "!wget https://raw.githubusercontent.com/ryancallihan/imdb-sentiment-dataset/master/imdb-sentiment-train.csv\n",
    "!wget https://raw.githubusercontent.com/ryancallihan/imdb-sentiment-dataset/master/imdb-sentiment-test.csv"
   ]
  },
  {
   "cell_type": "markdown",
   "metadata": {
    "colab_type": "text",
    "id": "WuhPr6r52azW"
   },
   "source": [
    "We will be removeing stopwords for some of these methods. [Stopwords](https://en.wikipedia.org/wiki/Stop_words) are words which, at a basic level, do not carry much \"_meaning_\". Words like: _the_, _and_, _or_, _is_, etc. I have included most punctuation in this as well."
   ]
  },
  {
   "cell_type": "code",
   "execution_count": null,
   "metadata": {
    "colab": {},
    "colab_type": "code",
    "id": "QCWdKeBJy3xX"
   },
   "outputs": [],
   "source": [
    "stopwords = stopwords.words('english') + list(punctuation)"
   ]
  },
  {
   "cell_type": "markdown",
   "metadata": {
    "colab_type": "text",
    "id": "ZBiFFf853Bhj"
   },
   "source": [
    "## Data \n",
    "\n",
    "The data we will be looking at is the classic [IMDB Sentiment Analysis](https://ai.stanford.edu/~amaas/data/sentiment/) dataset. It is a cleaned up sentiment analysis dataset, consisting of film reviews from IMDB. Each review is given a binary score of _Positive_ or _Negative_. It has already been divided into 25k train and 25k validation sets.\n",
    "\n",
    "We will only be taking 10K samples for the validation because of RAM and time contraints"
   ]
  },
  {
   "cell_type": "code",
   "execution_count": null,
   "metadata": {
    "colab": {},
    "colab_type": "code",
    "id": "_pcd5aaDLl9r"
   },
   "outputs": [],
   "source": [
    "train_df = pd.read_csv('imdb-sentiment-train.csv')\n",
    "test_df = pd.read_csv('imdb-sentiment-test.csv').sample(10000)"
   ]
  },
  {
   "cell_type": "markdown",
   "metadata": {
    "colab_type": "text",
    "id": "9LcEJ72eWNMM"
   },
   "source": [
    "### Preprocessing\n",
    "\n",
    "Convert to ASCII for ease during this presentation. Will convert characters like `Ü` to `U`. It just reduces the unique token types for this workshop."
   ]
  },
  {
   "cell_type": "code",
   "execution_count": null,
   "metadata": {
    "colab": {},
    "colab_type": "code",
    "id": "SEzPt8hqWNse"
   },
   "outputs": [],
   "source": [
    "train_df.text = [unidecode(t) for t in train_df.text]\n",
    "test_df.text = [unidecode(t) for t in test_df.text]"
   ]
  },
  {
   "cell_type": "markdown",
   "metadata": {
    "colab_type": "text",
    "id": "uZ2XbD1t4Pas"
   },
   "source": [
    "[Tokenization](https://en.wikipedia.org/wiki/Lexical_analysis#Tokenization) is breaking up the text into usable pieces.\n",
    "\n",
    "A sentence like `'I don't like celery.'` might be tokenized as `['I', 'do', 'n't', 'like', 'celery', '.']`\n",
    "\n",
    "Do a simple tokenize on the texts for ease using NLTK's [`word_tokenize`](https://www.nltk.org/api/nltk.tokenize.html)"
   ]
  },
  {
   "cell_type": "code",
   "execution_count": null,
   "metadata": {
    "colab": {
     "base_uri": "https://localhost:8080/",
     "height": 52
    },
    "colab_type": "code",
    "id": "OwBZcYv7jGCP",
    "outputId": "161c1c17-9428-4575-baed-1b6e6fff4494"
   },
   "outputs": [
    {
     "name": "stderr",
     "output_type": "stream",
     "text": [
      "100%|██████████| 25000/25000 [00:55<00:00, 450.17it/s]\n",
      "100%|██████████| 10000/10000 [00:21<00:00, 457.54it/s]\n"
     ]
    }
   ],
   "source": [
    "train_df['tokenized'] = [[t for t in word_tokenize(r.lower()) if t not in stopwords] for r in tqdm(train_df.text)]\n",
    "test_df['tokenized'] = [[t for t in word_tokenize(r.lower()) if t not in stopwords] for r in tqdm(test_df.text)]"
   ]
  },
  {
   "cell_type": "code",
   "execution_count": null,
   "metadata": {
    "colab": {
     "base_uri": "https://localhost:8080/",
     "height": 206
    },
    "colab_type": "code",
    "id": "wNS44cdnvIhr",
    "outputId": "2b1ac4eb-3f89-4200-b571-147c68eaa911"
   },
   "outputs": [
    {
     "data": {
      "text/html": [
       "<div>\n",
       "<style scoped>\n",
       "    .dataframe tbody tr th:only-of-type {\n",
       "        vertical-align: middle;\n",
       "    }\n",
       "\n",
       "    .dataframe tbody tr th {\n",
       "        vertical-align: top;\n",
       "    }\n",
       "\n",
       "    .dataframe thead th {\n",
       "        text-align: right;\n",
       "    }\n",
       "</style>\n",
       "<table border=\"1\" class=\"dataframe\">\n",
       "  <thead>\n",
       "    <tr style=\"text-align: right;\">\n",
       "      <th></th>\n",
       "      <th>text</th>\n",
       "      <th>sentiment</th>\n",
       "      <th>tokenized</th>\n",
       "    </tr>\n",
       "  </thead>\n",
       "  <tbody>\n",
       "    <tr>\n",
       "      <th>0</th>\n",
       "      <td>Steven Spielberg (at 24) had already directed ...</td>\n",
       "      <td>1</td>\n",
       "      <td>[steven, spielberg, 24, already, directed, two...</td>\n",
       "    </tr>\n",
       "    <tr>\n",
       "      <th>1</th>\n",
       "      <td>This is a very light headed comedy about a won...</td>\n",
       "      <td>1</td>\n",
       "      <td>[light, headed, comedy, wonderful, family, son...</td>\n",
       "    </tr>\n",
       "    <tr>\n",
       "      <th>2</th>\n",
       "      <td>When I was little, my parents got this movie f...</td>\n",
       "      <td>1</td>\n",
       "      <td>[little, parents, got, movie, watch, really, l...</td>\n",
       "    </tr>\n",
       "    <tr>\n",
       "      <th>3</th>\n",
       "      <td>Hilarious, evocative, confusing, brilliant fil...</td>\n",
       "      <td>1</td>\n",
       "      <td>[hilarious, evocative, confusing, brilliant, f...</td>\n",
       "    </tr>\n",
       "    <tr>\n",
       "      <th>4</th>\n",
       "      <td>All Dogs Go to Heaven plays on the canine crim...</td>\n",
       "      <td>1</td>\n",
       "      <td>[dogs, go, heaven, plays, canine, criminal, un...</td>\n",
       "    </tr>\n",
       "  </tbody>\n",
       "</table>\n",
       "</div>"
      ],
      "text/plain": [
       "                                                text  ...                                          tokenized\n",
       "0  Steven Spielberg (at 24) had already directed ...  ...  [steven, spielberg, 24, already, directed, two...\n",
       "1  This is a very light headed comedy about a won...  ...  [light, headed, comedy, wonderful, family, son...\n",
       "2  When I was little, my parents got this movie f...  ...  [little, parents, got, movie, watch, really, l...\n",
       "3  Hilarious, evocative, confusing, brilliant fil...  ...  [hilarious, evocative, confusing, brilliant, f...\n",
       "4  All Dogs Go to Heaven plays on the canine crim...  ...  [dogs, go, heaven, plays, canine, criminal, un...\n",
       "\n",
       "[5 rows x 3 columns]"
      ]
     },
     "execution_count": 7,
     "metadata": {
      "tags": []
     },
     "output_type": "execute_result"
    }
   ],
   "source": [
    "train_df.head()"
   ]
  },
  {
   "cell_type": "markdown",
   "metadata": {
    "colab_type": "text",
    "id": "1_YFIBERM0kc"
   },
   "source": [
    "## Some Minor Data Exporation\n",
    "\n",
    "It's always good to look at the data at least a little bit before working with it.\n",
    "\n",
    "### Class Split\n",
    "\n",
    "The classes are evenly split, so class imbalance won't be a problem.\n",
    "\n",
    "- `0` == _Negative_\n",
    "- `1` == _Positive_"
   ]
  },
  {
   "cell_type": "code",
   "execution_count": null,
   "metadata": {
    "colab": {
     "base_uri": "https://localhost:8080/",
     "height": 331
    },
    "colab_type": "code",
    "id": "f7WQZSTQ1yf3",
    "outputId": "5d590c86-55d3-468b-bdf5-c4227bab373f"
   },
   "outputs": [
    {
     "name": "stdout",
     "output_type": "stream",
     "text": [
      "1    12500\n",
      "0    12500\n",
      "Name: sentiment, dtype: int64\n"
     ]
    },
    {
     "data": {
      "text/plain": [
       "<matplotlib.axes._subplots.AxesSubplot at 0x7f6cb79c2dd8>"
      ]
     },
     "execution_count": 8,
     "metadata": {
      "tags": []
     },
     "output_type": "execute_result"
    },
    {
     "data": {
      "image/png": "[encoded data removed]",
      "text/plain": [
       "<Figure size 432x288 with 1 Axes>"
      ]
     },
     "metadata": {
      "tags": []
     },
     "output_type": "display_data"
    }
   ],
   "source": [
    "print(train_df.sentiment.value_counts())\n",
    "train_df.sentiment.value_counts().plot.bar()"
   ]
  },
  {
   "cell_type": "markdown",
   "metadata": {
    "colab_type": "text",
    "id": "YCMLCXKN4cb5"
   },
   "source": [
    "### Review Length\n",
    "\n",
    "We can see that the majority of reviews are roughly under 500 tokens long. Because we will be doing sentiment using a _Feed Forward_ network, we will not really need to worry about sequence length. When dealing with _Recurrent_ models, _Attention_ models, etc., it would need to be taken into consideration."
   ]
  },
  {
   "cell_type": "code",
   "execution_count": null,
   "metadata": {
    "colab": {
     "base_uri": "https://localhost:8080/",
     "height": 588
    },
    "colab_type": "code",
    "id": "3wBYMB90G3Nd",
    "outputId": "80c602b4-585f-4f87-d99f-c413a73e8def"
   },
   "outputs": [
    {
     "data": {
      "text/plain": [
       "array([[<matplotlib.axes._subplots.AxesSubplot object at 0x7f6cb793bf98>]],\n",
       "      dtype=object)"
      ]
     },
     "execution_count": 9,
     "metadata": {
      "tags": []
     },
     "output_type": "execute_result"
    },
    {
     "data": {
      "image/png": "[encoded data removed]",
      "text/plain": [
       "<Figure size 1080x648 with 1 Axes>"
      ]
     },
     "metadata": {
      "tags": []
     },
     "output_type": "display_data"
    }
   ],
   "source": [
    "train_df['token_count'] = [len(t.split()) for t in train_df['text']]\n",
    "test_df['token_count'] = [len(t.split()) for t in test_df['text']]\n",
    "train_df.hist(column='token_count', bins=30, figsize=(15, 9))"
   ]
  },
  {
   "cell_type": "markdown",
   "metadata": {
    "colab_type": "text",
    "id": "9l3gSq9GXaXe"
   },
   "source": [
    "### Distribution of tokens\n",
    "\n",
    "Token counts in a dataset usually have a [Zipfian Distribution](https://en.wikipedia.org/wiki/Zipf%27s_law) where the frequency of a token is inversely proportional to its rank.\n",
    "\n",
    "The majority of _stopwords_ have a really high frequency whereas content words usually dont.\n",
    "\n",
    "This is important for a couple of the feature extraction methods. Having a very large vocabulary can make your feature matrices especially large. "
   ]
  },
  {
   "cell_type": "code",
   "execution_count": null,
   "metadata": {
    "colab": {},
    "colab_type": "code",
    "id": "0Z3DmHyYX93F"
   },
   "outputs": [],
   "source": [
    "# Get token counts\n",
    "tokens, counts = zip(*sorted(Counter([t.lower() for s in train_df.text for t in s.split()]).items(), key=lambda x: x[1])[::-1])\n",
    "df = pd.DataFrame({\n",
    "    'tokens': tokens,\n",
    "    'counts': counts\n",
    "})\n",
    "df.sort_index(ascending=True).head(90).plot.bar(x='tokens', y='counts', figsize=(15, 9))"
   ]
  },
  {
   "cell_type": "markdown",
   "metadata": {
    "colab_type": "text",
    "id": "AGp-eD85g5HB"
   },
   "source": [
    "Our dataset certainly seems to follow a Zipfian distribution. For the sake of resources, we can limit our vocabulary by the frequency of tokens. We can remove stopwords and limit our vocab by frequency.\n",
    "\n",
    "Even after doing that, our dataset still fits the _Zipfian_ distribution."
   ]
  },
  {
   "cell_type": "code",
   "execution_count": null,
   "metadata": {
    "colab": {
     "base_uri": "https://localhost:8080/",
     "height": 611
    },
    "colab_type": "code",
    "id": "dkRUhIO731yP",
    "outputId": "23d688aa-bd25-49ba-a268-81c50a917285"
   },
   "outputs": [
    {
     "data": {
      "text/plain": [
       "<matplotlib.axes._subplots.AxesSubplot at 0x7f6cb7378860>"
      ]
     },
     "execution_count": 12,
     "metadata": {
      "tags": []
     },
     "output_type": "execute_result"
    },
    {
     "data": {
      "image/png": "[encoded data removed]",
      "text/plain": [
       "<Figure size 1080x648 with 1 Axes>"
      ]
     },
     "metadata": {
      "tags": []
     },
     "output_type": "display_data"
    }
   ],
   "source": [
    "# Get token counts\n",
    "tokens, counts = zip(*sorted(Counter([t for s in train_df.tokenized for t in s]).items(), key=lambda x: x[1])[::-1])\n",
    "df = pd.DataFrame({\n",
    "    'tokens': tokens,\n",
    "    'counts': counts\n",
    "})\n",
    "\n",
    "df.sort_index(ascending=True).head(90).plot.bar(x='tokens', y='counts', figsize=(15, 9))"
   ]
  },
  {
   "cell_type": "markdown",
   "metadata": {
    "colab_type": "text",
    "id": "hfsSpQSI9OsD"
   },
   "source": [
    "## Testing Model\n",
    "\n",
    "We will be testing our feature extraction on a _Feed Forward_ neural net. We will be using a [_Keras_](https://www.tensorflow.org/guide/keras) model for ease.\n",
    "\n",
    "We will use a model with the following hyperparams:\n",
    "\n",
    "- _Learning Rate_ == 0.0001\n",
    "- _Optimizer_ == _Adam_\n",
    "- _Layer Activations_ == _Sigmoid_\n",
    "- _Loss_ == _Binary Crossentropy_\n",
    "\n",
    "```\n",
    "_________________________________________________________________\n",
    "Layer (type)                 Output Shape              Param #   \n",
    "=================================================================\n",
    "dense (Dense)             (None, 128)               2560128   \n",
    "_________________________________________________________________\n",
    "dropout (Dropout)         (None, 128)               0         \n",
    "_________________________________________________________________\n",
    "dense_0 (Dense)             (None, 64)                8256      \n",
    "_________________________________________________________________\n",
    "dropout_0 (Dropout)         (None, 64)                0         \n",
    "_________________________________________________________________\n",
    "dense_1 (Dense)             (None, 64)                4160      \n",
    "_________________________________________________________________\n",
    "dropout_1 (Dropout)         (None, 64)                0         \n",
    "_________________________________________________________________\n",
    "dense_2 (Dense)             (None, 64)                4160      \n",
    "_________________________________________________________________\n",
    "dropout_2 (Dropout)         (None, 64)                0         \n",
    "_________________________________________________________________\n",
    "dense_3 (Dense)             (None, 1)                 65        \n",
    "=================================================================\n",
    "Total params: 2,576,769\n",
    "Trainable params: 2,576,769\n",
    "Non-trainable params: 0\n",
    "_________________________________________________________________\n",
    "```"
   ]
  },
  {
   "cell_type": "code",
   "execution_count": 5,
   "metadata": {
    "colab": {
     "base_uri": "https://localhost:8080/",
     "height": 64
    },
    "colab_type": "code",
    "id": "pNR9LUC29RQA",
    "outputId": "fe1f284a-4bc5-44fb-c947-4ac343b70f55"
   },
   "outputs": [
    {
     "name": "stderr",
     "output_type": "stream",
     "text": [
      "UsageError: Line magic function `%tensorflow_version` not found.\n"
     ]
    }
   ],
   "source": [
    "%tensorflow_version 1.x\n",
    "import tensorflow as tf\n",
    "from tensorflow.keras.models import Sequential\n",
    "from tensorflow.keras.layers import Dense, Dropout\n",
    "from tensorflow.keras.optimizers import Adam"
   ]
  },
  {
   "cell_type": "code",
   "execution_count": null,
   "metadata": {
    "colab": {},
    "colab_type": "code",
    "id": "Nq1WtadX9UWA"
   },
   "outputs": [],
   "source": [
    "def build_model(vector_length):\n",
    "    np.random.seed(42)\n",
    "    model = Sequential()\n",
    "    model.add(Dense(128, activation='sigmoid', input_shape=(vector_length, )))\n",
    "    model.add(Dropout(0.3))\n",
    "    for _ in range(3):\n",
    "        model.add(Dense(64, activation='sigmoid'))\n",
    "        model.add(Dropout(0.3))\n",
    "    model.add(Dense(1, activation='sigmoid'))\n",
    "    adam = Adam(learning_rate=0.0001)\n",
    "    model.compile(optimizer=adam, loss='binary_crossentropy', metrics=['accuracy'])\n",
    "    # print(model.summary())\n",
    "    return model"
   ]
  },
  {
   "cell_type": "markdown",
   "metadata": {
    "colab_type": "text",
    "id": "TD1DQriEhOwB"
   },
   "source": [
    "## Bag-of-Words Encoding\n",
    "\n",
    "Bag-of-Words (BOW) encoding creates vectors for words in which the length of the vector is the size of the vocabulary, and each token has an index. These vectors are very sparse. Most of the elements are 0."
   ]
  },
  {
   "cell_type": "code",
   "execution_count": null,
   "metadata": {
    "colab": {
     "base_uri": "https://localhost:8080/",
     "height": 225
    },
    "colab_type": "code",
    "id": "tqHasfzYx_CG",
    "outputId": "0c602476-a8fb-4ffa-b146-9500c4c2b636"
   },
   "outputs": [
    {
     "data": {
      "text/plain": [
       "{'!': 3,\n",
       " '.': 7,\n",
       " 'I': 8,\n",
       " 'They': 1,\n",
       " 'We': 4,\n",
       " 'but': 10,\n",
       " 'cheese': 2,\n",
       " 'do': 5,\n",
       " 'like': 0,\n",
       " 'mild': 9,\n",
       " 'not': 6,\n",
       " 'stinky': 11}"
      ]
     },
     "execution_count": 15,
     "metadata": {
      "tags": []
     },
     "output_type": "execute_result"
    }
   ],
   "source": [
    "corpus = [\n",
    "  ['I', 'like', 'cheese', '.'],\n",
    "  ['We', 'like', 'stinky', 'cheese', '.'],\n",
    "  ['They', 'do', 'not', 'like', 'stinky', 'cheese', '!'],\n",
    "  ['I', 'like', 'stinky', 'cheese', 'but', 'not', 'mild', 'cheese', '.']\n",
    "]\n",
    "vocab = set(t for s in corpus for t in s)\n",
    "indexer = {t: i for i, t in enumerate(vocab)}\n",
    "vocab_len = len(vocab)\n",
    "indexer"
   ]
  },
  {
   "cell_type": "markdown",
   "metadata": {
    "colab_type": "text",
    "id": "cYu3P3KX7JTB"
   },
   "source": [
    "We can turn our sentences into vectors"
   ]
  },
  {
   "cell_type": "code",
   "execution_count": null,
   "metadata": {
    "colab": {
     "base_uri": "https://localhost:8080/",
     "height": 34
    },
    "colab_type": "code",
    "id": "-j80H2GE2V6g",
    "outputId": "a004eba0-1e29-4093-d423-e209cfaf2e80"
   },
   "outputs": [
    {
     "data": {
      "text/plain": [
       "array([1., 0., 1., 0., 0., 0., 0., 1., 1., 0., 0., 0.])"
      ]
     },
     "execution_count": 16,
     "metadata": {
      "tags": []
     },
     "output_type": "execute_result"
    }
   ],
   "source": [
    "sent_i = 0\n",
    "vec = np.zeros(vocab_len)\n",
    "for t in corpus[sent_i]:\n",
    "    vec[indexer[t]] += 1\n",
    "vec"
   ]
  },
  {
   "cell_type": "markdown",
   "metadata": {
    "colab_type": "text",
    "id": "u-38zl277NvH"
   },
   "source": [
    "And then reversed. However, we can't preserve order."
   ]
  },
  {
   "cell_type": "code",
   "execution_count": null,
   "metadata": {
    "colab": {
     "base_uri": "https://localhost:8080/",
     "height": 86
    },
    "colab_type": "code",
    "id": "AqP8l9Sm43VQ",
    "outputId": "f8dd606f-a01b-4141-b2bc-adde9d072ccb"
   },
   "outputs": [
    {
     "name": "stdout",
     "output_type": "stream",
     "text": [
      "Token: like    | Count: 1\n",
      "Token: cheese  | Count: 1\n",
      "Token: .       | Count: 1\n",
      "Token: I       | Count: 1\n"
     ]
    }
   ],
   "source": [
    "indexer_inverse = {v: k for k, v in indexer.items()}\n",
    "for i, v in enumerate(vec):\n",
    "    if v:\n",
    "        print(f'Token: {indexer_inverse[i]:<7} | Count: {int(v)}')"
   ]
  },
  {
   "cell_type": "markdown",
   "metadata": {
    "colab_type": "text",
    "id": "HxqUPpv575b0"
   },
   "source": [
    "[_Scikit-Learn_](https://scikit-learn.org/) is a good implementation of of this.\n",
    "\n",
    "We will limit the total vocabulary to 20k. It will prioritize tokens with a higher frequency.\n",
    "\n",
    "#### [`CountVectorizer`](https://scikit-learn.org/stable/modules/generated/sklearn.feature_extraction.text.CountVectorizer.html)"
   ]
  },
  {
   "cell_type": "code",
   "execution_count": null,
   "metadata": {
    "colab": {
     "base_uri": "https://localhost:8080/",
     "height": 89
    },
    "colab_type": "code",
    "id": "lMTKbP-i27VX",
    "outputId": "fbdb6937-81f5-4311-c251-208ff187722d"
   },
   "outputs": [
    {
     "name": "stderr",
     "output_type": "stream",
     "text": [
      "/usr/local/lib/python3.6/dist-packages/sklearn/feature_extraction/text.py:507: UserWarning: The parameter 'token_pattern' will not be used since 'tokenizer' is not None'\n",
      "  warnings.warn(\"The parameter 'token_pattern' will not be used\"\n"
     ]
    },
    {
     "name": "stdout",
     "output_type": "stream",
     "text": [
      "Length of vocabulary: 20000\n"
     ]
    }
   ],
   "source": [
    "from sklearn.feature_extraction.text import CountVectorizer\n",
    "\n",
    "def dummy_func(doc):\n",
    "  \"\"\"Must pass a dummy function to avoid sklearn automatically tokenizing.\"\"\"\n",
    "  return doc\n",
    "\n",
    "one_hot = CountVectorizer(preprocessor=dummy_func, tokenizer=dummy_func, min_df=5, max_features=20000)\n",
    "one_hot.fit(train_df.tokenized)\n",
    "print(f'Length of vocabulary: {len(one_hot.vocabulary_)}')"
   ]
  },
  {
   "cell_type": "markdown",
   "metadata": {
    "colab_type": "text",
    "id": "E2EDkkvLCHxg"
   },
   "source": [
    "It's pretty easy to use"
   ]
  },
  {
   "cell_type": "code",
   "execution_count": null,
   "metadata": {
    "colab": {
     "base_uri": "https://localhost:8080/",
     "height": 89
    },
    "colab_type": "code",
    "id": "aGnaDVCL3Iit",
    "outputId": "b7f023f8-0790-45fd-ecbf-0d619a386c56"
   },
   "outputs": [
    {
     "name": "stdout",
     "output_type": "stream",
     "text": [
      "Text: Steven Spielberg (at 24) had already directed two superb episodes of a 1971 series called \"The Psychiatrist\", starring Roy Thinnes. One episode had been about an emotionally troubled 12-year old boy and the other was about a vibrant young man (Clu Gulager in his best performance) who is dying of cancer. Both episodes were stunning, visually unlike anything else on TV, and emotionally complex and adult. The creators of \"The Psychiatrist\" were Richard Levinson and William Link, who created \"Columbo\" and also produced its first season.Peter Falk insisted on first rank, experienced TV directors for the first season of \"Columbo\", like Bernard Kowalski and Jack Smight. But Falk agreed to Spielberg after watching part of the Clu Gulagher episode of \"The Psychiatrist\".Spielberg says on the DVD of \"Duel\" that he loved Steven Bochco's \"Murder by the Book\" script (based on a Levinson/Link story), and he tried to make the production look like a million dollar feature, even thought he had a lot less money to work with.This episode of \"Columbo\" is far more visually stylish and makes better use of the sound track and background music than almost any other \"Columbo\" episode, even though the series always used top directors. Spielberg manages to keep the great Falk and Cassidy from hamming it up too much, but both actors are still a lot of fun. Spielberg also gets fine supporting work from Martin Milner, Rosemary Forsyth and Barbara Colby. All the performances have a freshness and vitality about them. The only \"Columbo\" episode that was close to being as well directed is the \"By Dawn's Early Light\" episode with Patrick McGoohan (directed by Harvey Hart).I think the two episodes of \"The Psychiatrist\" and this episode of \"Columbo\" suggest Spielberg hasn't developed technically all that much as a director. He was great from the beginning. In a \"Combat!\" DVD commentary of a 1962 episode guest starring Albert Salmi, Robert Altman says that episode was pretty much as good as he ever got as a director. Maybe the same is true of Spielberg.\n",
      "Feature Dimentions: (1, 20000)\n"
     ]
    },
    {
     "data": {
      "text/plain": [
       "array([[14,  0,  0, ...,  0,  0,  0]])"
      ]
     },
     "execution_count": 19,
     "metadata": {
      "tags": []
     },
     "output_type": "execute_result"
    }
   ],
   "source": [
    "print(f'Text: {train_df.text.values[0][:50]}')\n",
    "vec = one_hot.transform([train_df.tokenized.values[0]]).toarray()\n",
    "print(f'Feature Dimentions: {vec.shape}')\n",
    "vec"
   ]
  },
  {
   "cell_type": "markdown",
   "metadata": {
    "colab_type": "text",
    "id": "O7uBQSteGJGP"
   },
   "source": [
    "### Training"
   ]
  },
  {
   "cell_type": "code",
   "execution_count": null,
   "metadata": {
    "colab": {
     "base_uri": "https://localhost:8080/",
     "height": 382
    },
    "colab_type": "code",
    "id": "x0z2bh7W9nQG",
    "outputId": "22619036-ff19-40ad-9b8b-83e2a620dba6"
   },
   "outputs": [
    {
     "name": "stdout",
     "output_type": "stream",
     "text": [
      "Train on 25000 samples, validate on 10000 samples\n",
      "Epoch 1/10\n",
      "25000/25000 [==============================] - 13s 511us/sample - loss: 0.7177 - acc: 0.5057 - val_loss: 0.6816 - val_acc: 0.8152\n",
      "Epoch 2/10\n",
      "25000/25000 [==============================] - 12s 490us/sample - loss: 0.6386 - acc: 0.6304 - val_loss: 0.4759 - val_acc: 0.8496\n",
      "Epoch 3/10\n",
      "25000/25000 [==============================] - 12s 491us/sample - loss: 0.3731 - acc: 0.8609 - val_loss: 0.3013 - val_acc: 0.8828\n",
      "Epoch 4/10\n",
      "25000/25000 [==============================] - 12s 490us/sample - loss: 0.2750 - acc: 0.8984 - val_loss: 0.2806 - val_acc: 0.8887\n",
      "Epoch 5/10\n",
      "25000/25000 [==============================] - 12s 485us/sample - loss: 0.2387 - acc: 0.9133 - val_loss: 0.2778 - val_acc: 0.8905\n",
      "Epoch 6/10\n",
      "25000/25000 [==============================] - 12s 478us/sample - loss: 0.2117 - acc: 0.9235 - val_loss: 0.2788 - val_acc: 0.8910\n",
      "Epoch 7/10\n",
      "25000/25000 [==============================] - 12s 470us/sample - loss: 0.1906 - acc: 0.9318 - val_loss: 0.2811 - val_acc: 0.8914\n",
      "Epoch 8/10\n",
      "25000/25000 [==============================] - 12s 464us/sample - loss: 0.1754 - acc: 0.9396 - val_loss: 0.2894 - val_acc: 0.8912\n",
      "Epoch 9/10\n",
      "25000/25000 [==============================] - 12s 468us/sample - loss: 0.1602 - acc: 0.9458 - val_loss: 0.3004 - val_acc: 0.8859\n",
      "Epoch 10/10\n",
      "25000/25000 [==============================] - 12s 461us/sample - loss: 0.1516 - acc: 0.9487 - val_loss: 0.3018 - val_acc: 0.8894\n"
     ]
    }
   ],
   "source": [
    "oh_model = build_model(len(one_hot.vocabulary_))\n",
    "oh_history = oh_model.fit(\n",
    "    x=one_hot.transform(train_df.tokenized), \n",
    "    y=train_df.sentiment,\n",
    "    epochs=10,\n",
    "    validation_data=(one_hot.transform(test_df.tokenized), test_df.sentiment)\n",
    "    )"
   ]
  },
  {
   "cell_type": "markdown",
   "metadata": {
    "colab_type": "text",
    "id": "sEY9wUL_GOhZ"
   },
   "source": [
    "### Prediction"
   ]
  },
  {
   "cell_type": "code",
   "execution_count": null,
   "metadata": {
    "colab": {
     "base_uri": "https://localhost:8080/",
     "height": 104
    },
    "colab_type": "code",
    "id": "6e8wEt2nqVkc",
    "outputId": "06e6d859-12ed-4d6c-b525-902165fd4986"
   },
   "outputs": [
    {
     "name": "stdout",
     "output_type": "stream",
     "text": [
      "0.19578 | Tacos in England is absolutely terrible .\n",
      "0.62020 | Tacos in England absolutely terible .\n",
      "0.20484 | Tacos in Prague are not so bad .\n",
      "0.69633 | Mexican food in SD is the best .\n",
      "0.50702 | I'm a big fan of tacos .\n"
     ]
    }
   ],
   "source": [
    "def oh_predict(text):\n",
    "  return oh_model.predict(one_hot.transform([text.lower().split()]))[0][0]\n",
    "\n",
    "def oh_print(text):\n",
    "  print(f'{oh_predict(text):<.5f} | {text}')\n",
    "\n",
    "t1 = '''Tacos in England is absolutely terrible .'''\n",
    "t2 = '''Tacos in England absolutely terible .'''\n",
    "t3 = '''Tacos in Prague are not so bad .'''\n",
    "t4 = '''Mexican food in SD is the best .'''\n",
    "t5 = '''I'm a big fan of tacos .'''\n",
    "\n",
    "oh_print(t1)\n",
    "oh_print(t2)\n",
    "oh_print(t3)\n",
    "oh_print(t4)\n",
    "oh_print(t5)"
   ]
  },
  {
   "cell_type": "markdown",
   "metadata": {
    "colab_type": "text",
    "id": "hOLfC1YgGYU3"
   },
   "source": [
    "## TF*IDF\n",
    "\n",
    "[_tf*idf_](https://en.wikipedia.org/wiki/Tf%E2%80%93idf) is a widely used technique in NLP for feature and keyword extraction. \n",
    "\n",
    "By combining the frequency (how many times a term appears in a document) by the inverse document frequency (how many documents a term appears in), we are able to filter out common words and promote unique content words.\n",
    "\n",
    "[_Scikit-Learn_](https://scikit-learn.org/) also has a very good implementation of it.\n",
    "\n",
    "#### [`TFIDFVectorizer`](https://scikit-learn.org/stable/modules/generated/sklearn.feature_extraction.text.TfidfVectorizer.html)"
   ]
  },
  {
   "cell_type": "code",
   "execution_count": null,
   "metadata": {
    "colab": {
     "base_uri": "https://localhost:8080/",
     "height": 89
    },
    "colab_type": "code",
    "id": "ExUbVNg0BeyW",
    "outputId": "37754a57-49ac-463d-daf0-62ca3c34c0a4"
   },
   "outputs": [
    {
     "name": "stderr",
     "output_type": "stream",
     "text": [
      "/usr/local/lib/python3.6/dist-packages/sklearn/feature_extraction/text.py:507: UserWarning: The parameter 'token_pattern' will not be used since 'tokenizer' is not None'\n",
      "  warnings.warn(\"The parameter 'token_pattern' will not be used\"\n"
     ]
    },
    {
     "name": "stdout",
     "output_type": "stream",
     "text": [
      "Length of vocabulary: 20000\n"
     ]
    }
   ],
   "source": [
    "from sklearn.feature_extraction.text import TfidfVectorizer\n",
    "\n",
    "tfidf = TfidfVectorizer(preprocessor=dummy_func, tokenizer=dummy_func, min_df=5, max_features=20000)\n",
    "tfidf.fit(train_df.tokenized)\n",
    "print(f'Length of vocabulary: {len(tfidf.vocabulary_)}')"
   ]
  },
  {
   "cell_type": "markdown",
   "metadata": {
    "colab_type": "text",
    "id": "Pb_z2NclHVpB"
   },
   "source": [
    "### Training"
   ]
  },
  {
   "cell_type": "code",
   "execution_count": null,
   "metadata": {
    "colab": {
     "base_uri": "https://localhost:8080/",
     "height": 382
    },
    "colab_type": "code",
    "id": "502vH5LNIkm5",
    "outputId": "af1c032c-815c-4cd7-d2cf-9c3d21297e87"
   },
   "outputs": [
    {
     "name": "stdout",
     "output_type": "stream",
     "text": [
      "Train on 25000 samples, validate on 10000 samples\n",
      "Epoch 1/10\n",
      "25000/25000 [==============================] - 11s 458us/sample - loss: 0.7193 - acc: 0.5014 - val_loss: 0.6929 - val_acc: 0.4995\n",
      "Epoch 2/10\n",
      "25000/25000 [==============================] - 11s 448us/sample - loss: 0.7096 - acc: 0.5054 - val_loss: 0.6926 - val_acc: 0.4995\n",
      "Epoch 3/10\n",
      "25000/25000 [==============================] - 11s 457us/sample - loss: 0.7076 - acc: 0.4997 - val_loss: 0.6922 - val_acc: 0.5005\n",
      "Epoch 4/10\n",
      "25000/25000 [==============================] - 12s 463us/sample - loss: 0.7024 - acc: 0.5031 - val_loss: 0.6916 - val_acc: 0.4995\n",
      "Epoch 5/10\n",
      "25000/25000 [==============================] - 11s 455us/sample - loss: 0.7004 - acc: 0.5042 - val_loss: 0.6898 - val_acc: 0.4996\n",
      "Epoch 6/10\n",
      "25000/25000 [==============================] - 12s 468us/sample - loss: 0.6945 - acc: 0.5213 - val_loss: 0.6845 - val_acc: 0.5287\n",
      "Epoch 7/10\n",
      "25000/25000 [==============================] - 11s 447us/sample - loss: 0.6810 - acc: 0.5638 - val_loss: 0.6564 - val_acc: 0.8371\n",
      "Epoch 8/10\n",
      "25000/25000 [==============================] - 12s 465us/sample - loss: 0.6144 - acc: 0.6812 - val_loss: 0.5073 - val_acc: 0.8456\n",
      "Epoch 9/10\n",
      "25000/25000 [==============================] - 11s 458us/sample - loss: 0.4895 - acc: 0.7752 - val_loss: 0.3847 - val_acc: 0.8538\n",
      "Epoch 10/10\n",
      "25000/25000 [==============================] - 11s 448us/sample - loss: 0.4315 - acc: 0.8070 - val_loss: 0.3454 - val_acc: 0.8616\n"
     ]
    }
   ],
   "source": [
    "tfidf_model = build_model(len(tfidf.vocabulary_))\n",
    "tfidf_history = tfidf_model.fit(\n",
    "    x=tfidf.transform(train_df.tokenized), \n",
    "    y=train_df.sentiment,\n",
    "    epochs=10,\n",
    "    validation_data=(tfidf.transform(test_df.tokenized), test_df.sentiment)\n",
    "    )"
   ]
  },
  {
   "cell_type": "markdown",
   "metadata": {
    "colab_type": "text",
    "id": "iZmDY8r_HYeR"
   },
   "source": [
    "### Prediction"
   ]
  },
  {
   "cell_type": "code",
   "execution_count": null,
   "metadata": {
    "colab": {
     "base_uri": "https://localhost:8080/",
     "height": 104
    },
    "colab_type": "code",
    "id": "cu2ClV0Ts4yj",
    "outputId": "50ddd320-28d2-4f16-9e04-4d0be1f25790"
   },
   "outputs": [
    {
     "name": "stdout",
     "output_type": "stream",
     "text": [
      "0.20991 | Tacos in England is absolutely terrible .\n",
      "0.69588 | Tacos in England absolutely terible .\n",
      "0.26835 | Tacos in Prague are not so bad .\n",
      "0.80186 | Mexican food in SD is the best .\n",
      "0.71495 | I'm a big fan of tacos .\n"
     ]
    }
   ],
   "source": [
    "def tfidf_predict(text):\n",
    "  return tfidf_model.predict(tfidf.transform([text.lower().split()]))[0][0]\n",
    "\n",
    "def tfidf_print(text):\n",
    "  print(f'{tfidf_predict(text):<.5f} | {text}')\n",
    "\n",
    "tfidf_print(t1)\n",
    "tfidf_print(t2)\n",
    "tfidf_print(t3)\n",
    "tfidf_print(t4)\n",
    "tfidf_print(t5)"
   ]
  },
  {
   "cell_type": "markdown",
   "metadata": {
    "colab_type": "text",
    "id": "9IGIG_lNHbkf"
   },
   "source": [
    "## Subword Encoding\n",
    "\n",
    "Also known as [_Byte Pair Encoding_](https://en.wikipedia.org/wiki/Byte_pair_encoding). This feature extraction has become very popular in the past couple years. Because writing is frequently non-standard, BOW encoding is often not ideal. Because BOW and tfidf encoding require a static vocabulary, it cannot handle new words, misspelled words, etc. If the vocabulary was built to include _terrible_ but not _terrible_, it could have a negative effect on the model.\n",
    "\n",
    "_Byte Pair Encoding_ starts by looking at the training dataset on a character level. It find the most frequent pairs of characters, registers that as a subword, and then will treat each occurence of that sequence as one unit. \n",
    "\n",
    "- `H e r e  i s  a  n i c e  s e n t e n c e .`\n",
    "- `H e r e  i s  a  n i c e  s en t en c e .`\n",
    "- `H e r e  i s  a  n i ce  s en t en ce .`\n",
    "- ...\n",
    "\n",
    "This is able to capture things like word stems and morphology.\n",
    "\n",
    "Tensorflow as a good and efficient implementation of this.\n",
    "\n",
    "#### [`SubwordTextEncoder`](https://www.tensorflow.org/datasets/api_docs/python/tfds/features/text/SubwordTextEncoder)"
   ]
  },
  {
   "cell_type": "code",
   "execution_count": null,
   "metadata": {
    "colab": {
     "base_uri": "https://localhost:8080/",
     "height": 200
    },
    "colab_type": "code",
    "id": "07B9ZY9NbLGX",
    "outputId": "51fb3c8b-0d84-44a0-85d4-16b9d39ea3f8"
   },
   "outputs": [
    {
     "ename": "NameError",
     "evalue": "ignored",
     "output_type": "error",
     "traceback": [
      "\u001b[0;31m---------------------------------------------------------------------------\u001b[0m",
      "\u001b[0;31mNameError\u001b[0m                                 Traceback (most recent call last)",
      "\u001b[0;32m<ipython-input-28-a7e1b6844aa3>\u001b[0m in \u001b[0;36m<module>\u001b[0;34m()\u001b[0m\n\u001b[1;32m      1\u001b[0m swe_encoder = tfds.features.text.SubwordTextEncoder.build_from_corpus(\n\u001b[1;32m      2\u001b[0m     train_df.text, target_vocab_size=20000)\n\u001b[0;32m----> 3\u001b[0;31m \u001b[0mprint\u001b[0m\u001b[0;34m(\u001b[0m\u001b[0;34mf'Vocabulary size: {encoder.vocab_size}'\u001b[0m\u001b[0;34m)\u001b[0m\u001b[0;34m\u001b[0m\u001b[0;34m\u001b[0m\u001b[0m\n\u001b[0m",
      "\u001b[0;31mNameError\u001b[0m: name 'encoder' is not defined"
     ]
    }
   ],
   "source": [
    "import tensorflow_datasets as tfds\n",
    "\n",
    "swe_encoder = tfds.features.text.SubwordTextEncoder.build_from_corpus(\n",
    "    train_df.text, target_vocab_size=20000)\n",
    "print(f'Vocabulary size: {encoder.vocab_size}')"
   ]
  },
  {
   "cell_type": "markdown",
   "metadata": {
    "colab_type": "text",
    "id": "gXJEA4y3JeFm"
   },
   "source": [
    "We can see how it splits up text here."
   ]
  },
  {
   "cell_type": "code",
   "execution_count": null,
   "metadata": {
    "colab": {},
    "colab_type": "code",
    "id": "601B5mukbK-H"
   },
   "outputs": [],
   "source": [
    "text = 'Here is a standard sentence.'  # Standard Words\n",
    "# text = 'This sentence is more standarder!'  # Non-standard word\n",
    "enc = swe_encoder.encode(text)\n",
    "print(f'Encoded: {enc}', '\\n', '-'*10)\n",
    "for e in enc:\n",
    "    print(f'Decoded: {swe_encoder.decode([e])}')"
   ]
  },
  {
   "cell_type": "markdown",
   "metadata": {
    "colab_type": "text",
    "id": "Wks6R_69KC-L"
   },
   "source": [
    "However, we still need to convert our Subword encodings into vectors. They will function just like the one-hot vectors"
   ]
  },
  {
   "cell_type": "code",
   "execution_count": null,
   "metadata": {
    "colab": {},
    "colab_type": "code",
    "id": "d-qgphVZfDQn"
   },
   "outputs": [],
   "source": [
    "swe_train_x = np.zeros((len(train_df), encoder.vocab_size))\n",
    "for i, text in enumerate(train_df.text):\n",
    "    for e in swe_encoder.encode(text):\n",
    "        swe_train_x[i, e] += 1\n",
    "\n",
    "swe_test_x = np.zeros((len(test_df), encoder.vocab_size))\n",
    "for i, text in enumerate(test_df.text):\n",
    "    for e in swe_encoder.encode(text):\n",
    "        swe_test_x[i, e] += 1"
   ]
  },
  {
   "cell_type": "markdown",
   "metadata": {
    "colab_type": "text",
    "id": "blg0e1ZPKPEh"
   },
   "source": [
    "### Training"
   ]
  },
  {
   "cell_type": "code",
   "execution_count": null,
   "metadata": {
    "colab": {},
    "colab_type": "code",
    "id": "BrRK3A10fC_G"
   },
   "outputs": [],
   "source": [
    "swe_model = build_model(swe_encoder.vocab_size)\n",
    "\n",
    "swe_history = swe_model.fit(\n",
    "    x=swe_train_x, \n",
    "    y=train_df.sentiment,\n",
    "    epochs=10,\n",
    "    validation_data=(swe_test_x, test_df.sentiment)\n",
    "    )"
   ]
  },
  {
   "cell_type": "markdown",
   "metadata": {
    "colab_type": "text",
    "id": "ovSQnHqoKRpt"
   },
   "source": [
    "### Prediction"
   ]
  },
  {
   "cell_type": "code",
   "execution_count": null,
   "metadata": {
    "colab": {},
    "colab_type": "code",
    "id": "X-hNDGrVfCzx"
   },
   "outputs": [],
   "source": [
    "def swe_predict(text):\n",
    "    x = np.zeros((1, swe_encoder.vocab_size))\n",
    "    for e in swe_encoder.encode(text):\n",
    "        x[0, e] += 1\n",
    "    return swe_model.predict(x)[0][0]\n",
    "\n",
    "def swe_print(text):\n",
    "    print(f'{swe_predict(text):<.5f} | {text}')\n",
    "\n",
    "swe_print(t1)\n",
    "swe_print(t2)\n",
    "swe_print(t3)\n",
    "swe_print(t4)\n",
    "swe_print(t5)"
   ]
  },
  {
   "cell_type": "markdown",
   "metadata": {
    "colab_type": "text",
    "id": "4-y74w1fKVR_"
   },
   "source": [
    "## GloVe\n",
    "\n",
    "_Word Embeddings_ are now the new normal for NLP. Two of the first, widely used, and really successful embedding algorithms were [_GloVe_](https://nlp.stanford.edu/projects/glove/) and [_Word2Vec_](https://en.wikipedia.org/wiki/Word2vec). We will be using _GloVe_ here because it is so easy to use with [_spaCy_](https://spacy.io/)\n",
    "\n",
    "Word embeddings start to fix a couple major problem with one-hot and tfidf. \n",
    "\n",
    "- __Dimentionality Reduction__: The vectors we used earlier are quite large with a dimention of 20k. _GloVe_ vectors have a dimention of 300. \n",
    "- __Semantics__: _\"You shall know a word by the company it keeps\"_ (Firth). These vectors will group words which have a similar meaning together. So, a word like \"_bad_\" will be close to \"_terrible_\", similar to \"_good_\", but very dissimilar to \"_taco_\".\n",
    "\n",
    "We will be using [_spaCy_](https://spacy.io/) to load our vectors"
   ]
  },
  {
   "cell_type": "code",
   "execution_count": null,
   "metadata": {
    "colab": {},
    "colab_type": "code",
    "id": "-kICiJpB_4H9"
   },
   "outputs": [],
   "source": [
    "import en_core_web_md  # \n",
    "from spacy.tokens import Doc"
   ]
  },
  {
   "cell_type": "code",
   "execution_count": null,
   "metadata": {
    "colab": {},
    "colab_type": "code",
    "id": "GSvJ_jnU_7hl"
   },
   "outputs": [],
   "source": [
    "nlp = en_core_web_md.load(disable=['tagger', 'parser', 'ner'])"
   ]
  },
  {
   "cell_type": "code",
   "execution_count": null,
   "metadata": {
    "colab": {},
    "colab_type": "code",
    "id": "rKLzjv9XADAV"
   },
   "outputs": [],
   "source": [
    "glove_train_x = np.array([Doc(nlp.vocab, words=sent).vector.tolist() for sent in tqdm(train_df.tokenized, disable=True)])\n",
    "glove_test_x = np.array([Doc(nlp.vocab, words=sent).vector.tolist() for sent in tqdm(test_df.tokenized, disable=True)])"
   ]
  },
  {
   "cell_type": "markdown",
   "metadata": {
    "colab_type": "text",
    "id": "j39eL0VeMa9w"
   },
   "source": [
    "### Training"
   ]
  },
  {
   "cell_type": "code",
   "execution_count": null,
   "metadata": {
    "colab": {},
    "colab_type": "code",
    "id": "C-dRC1--Azrx"
   },
   "outputs": [],
   "source": [
    "glove_model = build_model(300)"
   ]
  },
  {
   "cell_type": "code",
   "execution_count": null,
   "metadata": {
    "colab": {},
    "colab_type": "code",
    "id": "FeOqV-oLAzkh"
   },
   "outputs": [],
   "source": [
    "glove_history = glove_model.fit(\n",
    "    x=glove_train_x, \n",
    "    y=train_df.sentiment,\n",
    "    epochs=10,\n",
    "    validation_data=(glove_test_x, test_df.sentiment)\n",
    "    )"
   ]
  },
  {
   "cell_type": "markdown",
   "metadata": {
    "colab_type": "text",
    "id": "mb8ltj-wMdgl"
   },
   "source": [
    "### Prediction"
   ]
  },
  {
   "cell_type": "code",
   "execution_count": null,
   "metadata": {
    "colab": {},
    "colab_type": "code",
    "id": "BKI-bX9ivIqO"
   },
   "outputs": [],
   "source": [
    "def glove_predict(text):\n",
    "  x = np.array([Doc(nlp.vocab, words=text.lower().split()).vector.tolist()])\n",
    "  return glove_model.predict(x)[0][0]\n",
    "\n",
    "def glove_print(text):\n",
    "  print(f'{swe_predict(text):<.5f} | {text}')\n",
    "\n",
    "swe_print(t1)\n",
    "swe_print(t2)\n",
    "swe_print(t3)\n",
    "swe_print(t4)\n",
    "swe_print(t5)"
   ]
  },
  {
   "cell_type": "markdown",
   "metadata": {
    "colab_type": "text",
    "id": "ulRI1c48MgYb"
   },
   "source": [
    "## Conclusion\n",
    "\n",
    "This was by no means a comprehensive comparison of NLP feature selection. But we can see that the features we use can make a large difference"
   ]
  },
  {
   "cell_type": "code",
   "execution_count": null,
   "metadata": {
    "colab": {},
    "colab_type": "code",
    "id": "8CFDDgfYv7ML"
   },
   "outputs": [],
   "source": [
    "print(f\"{'O-H':<5} | {'TFIDF':<5} | {'SWE':<5} | {'GloVe':<5} | {'Text'}\")\n",
    "print(f\"{oh_predict(t1):.3f} | {tfidf_predict(t1):.3f} | {swe_predict(t1):.3f} | {glove_predict(t1):.3f} | {t1}\")\n",
    "print(f\"{oh_predict(t2):.3f} | {tfidf_predict(t2):.3f} | {swe_predict(t2):.3f} | {glove_predict(t2):.3f} | {t2}\")\n",
    "print(f\"{oh_predict(t3):.3f} | {tfidf_predict(t3):.3f} | {swe_predict(t3):.3f} | {glove_predict(t3):.3f} | {t3}\")\n",
    "print(f\"{oh_predict(t4):.3f} | {tfidf_predict(t4):.3f} | {swe_predict(t4):.3f} | {glove_predict(t4):.3f} | {t4}\")\n",
    "print(f\"{oh_predict(t5):.3f} | {tfidf_predict(t5):.3f} | {swe_predict(t5):.3f} | {glove_predict(t5):.3f} | {t5}\")"
   ]
  },
  {
   "cell_type": "code",
   "execution_count": null,
   "metadata": {
    "colab": {},
    "colab_type": "code",
    "id": "oA-yZG87N48E"
   },
   "outputs": [],
   "source": [
    "import matplotlib.pyplot as plt\n",
    "# Plot training & validation accuracy values\n",
    "fig = plt.figure(figsize=(15, 4))\n",
    "plt.plot(glove_hist.history['val_acc'], color='red')\n",
    "plt.plot(swe_history.history['val_acc'], color='blue')\n",
    "plt.plot(tfidf_history.history['val_acc'], color='green')\n",
    "plt.plot(oh_history.history['val_acc'], color='orange')\n",
    "\n",
    "plt.plot(glove_hist.history['acc'], ls='--', color='red')\n",
    "plt.plot(swe_history.history['acc'], ls='--', color='blue')\n",
    "plt.plot(tfidf_history.history['acc'], ls='--', color='green')\n",
    "plt.plot(oh_history.history['acc'], ls='--', color='orange')\n",
    "\n",
    "plt.title('Model accuracy')\n",
    "plt.ylabel('Accuracy')\n",
    "plt.xlabel('Epoch')\n",
    "plt.legend(['GloVe Val', 'SWE Val', 'TFIDF Val', 'One-Hot Val', 'GloVe', 'SWE', 'TFIDF', 'One-Hot'], loc='best')\n",
    "plt.show()\n",
    "\n",
    "# Plot training & validation loss values\n",
    "fig = plt.figure(figsize=(15, 4))\n",
    "plt.plot(glove_history.history['val_loss'], color='red')\n",
    "plt.plot(swe_history.history['val_loss'], color='blue')\n",
    "plt.plot(tfidf_history.history['val_loss'], color='green')\n",
    "plt.plot(oh_history.history['val_loss'], color='orange')\n",
    "\n",
    "plt.plot(glove_hist.history['loss'], ls='--', color='red')\n",
    "plt.plot(swe_history.history['loss'], ls='--', color='blue')\n",
    "plt.plot(tfidf_history.history['loss'], ls='--', color='green')\n",
    "plt.plot(oh_history.history['loss'], ls='--', color='orange')\n",
    "\n",
    "plt.title('Model loss')\n",
    "plt.ylabel('Loss')\n",
    "plt.xlabel('Epoch')\n",
    "plt.legend(['GloVe Val', 'SWE Val', 'TFIDF Val', 'One-Hot Val', 'GloVe', 'SWE', 'TFIDF', 'One-Hot'], loc='best')\n",
    "plt.show()\n"
   ]
  },
  {
   "cell_type": "code",
   "execution_count": null,
   "metadata": {
    "colab": {},
    "colab_type": "code",
    "id": "6iW41tPooOIR"
   },
   "outputs": [],
   "source": []
  }
 ],
 "metadata": {
  "colab": {
   "collapsed_sections": [],
   "machine_shape": "hm",
   "name": "nlp_feature_selection.ipynb",
   "provenance": []
  },
  "kernelspec": {
   "display_name": "Python 3",
   "language": "python",
   "name": "python3"
  },
  "language_info": {
   "codemirror_mode": {
    "name": "ipython",
    "version": 3
   },
   "file_extension": ".py",
   "mimetype": "text/x-python",
   "name": "python",
   "nbconvert_exporter": "python",
   "pygments_lexer": "ipython3",
   "version": "3.7.6"
  }
 },
 "nbformat": 4,
 "nbformat_minor": 4
}
