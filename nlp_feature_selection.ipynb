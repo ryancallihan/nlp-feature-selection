{
 "cells": [
  {
   "cell_type": "markdown",
   "metadata": {
    "colab_type": "text",
    "id": "i1UoY29wvLmt"
   },
   "source": [
    "# How Word Embeddings Effect NLP Models\n",
    "\n",
    "[Colab Notebook](https://colab.research.google.com/drive/132Ux-u4yNoGlVxKLy0D1_rAaTwC4Euf-)\n",
    "\n",
    "This notebook will explore come different feature selection methods for NLP models. It will cover the following topics:\n",
    "\n",
    "- Tokenisation\n",
    "- Stopwords\n",
    "- Zipfian Distributions\n",
    "- Sentiment Analysis\n",
    "- Bag-of-words Vectorisation\n",
    "- tf\\*idf Vectorisation\n",
    "- Subword Encoding\n",
    "- Word Embeddings"
   ]
  },
  {
   "cell_type": "markdown",
   "metadata": {
    "colab_type": "text",
    "id": "oKa_Zw3VIEun"
   },
   "source": [
    "## About Me\n",
    "\n",
    "My name is Ryan Callihan. I am a native of San Diego, California but moved to the sunnier climes of Lancaster, UK.\n",
    "\n",
    "I am:\n",
    "\n",
    "- Senior Computational Linguist at [Relative Insight](https://relativeinsight.com/)\n",
    "- Organiser of [PyData Lancaster](https://twitter.com/PydataLancaster)\n",
    "- Co-founder of [Coin Market Mood](https://coinmarketmood.com/)\n",
    "- [collector of old post cards](https://postrecollection.wordpress.com/)\n",
    "\n",
    "You can find me on:\n",
    "- [Twitter](https://twitter.com/_ryancallihan)\n",
    "- [LinkedIn](https://www.linkedin.com/in/ryan-callihan/)\n",
    "- [Github](https://github.com/ryancallihan)\n",
    "- [Instagram](https://www.instagram.com/ryancallihan/)\n",
    "\n",
    "![Relative Insight](https://raw.githubusercontent.com/ryancallihan/nlp-feature-selection/master/images/RelativeLogo_RGB.png)"
   ]
  },
  {
   "cell_type": "code",
   "execution_count": null,
   "metadata": {
    "colab": {},
    "colab_type": "code",
    "id": "V9nA7DInWIeg"
   },
   "outputs": [],
   "source": [
    "%%capture\n",
    "!pip install unidecode\n",
    "\n",
    "import os\n",
    "from string import punctuation\n",
    "from collections import Counter\n",
    "\n",
    "import nltk\n",
    "import numpy as np\n",
    "import pandas as pd\n",
    "from tqdm import tqdm\n",
    "from string import punctuation\n",
    "from nltk import word_tokenize\n",
    "from unidecode import unidecode\n",
    "from nltk.corpus import stopwords\n",
    "\n",
    "# Models necessary for this workshop\n",
    "!python -m spacy download en_core_web_md\n",
    "nltk.download('punkt')\n",
    "nltk.download('stopwords')\n",
    "\n",
    "# Download data\n",
    "!wget https://raw.githubusercontent.com/ryancallihan/nlp-feature-selection/master/data/imdb-sentiment-train.csv\n",
    "!wget https://raw.githubusercontent.com/ryancallihan/nlp-feature-selection/master/data/imdb-sentiment-test.csv"
   ]
  },
  {
   "cell_type": "markdown",
   "metadata": {
    "colab_type": "text",
    "id": "WuhPr6r52azW"
   },
   "source": [
    "We will be removeing stopwords for some of these methods. [Stopwords](https://en.wikipedia.org/wiki/Stop_words) are words which, at a basic level, do not carry much \"_meaning_\". Words like: _the_, _and_, _or_, _is_, etc. I have included most punctuation in this as well."
   ]
  },
  {
   "cell_type": "code",
   "execution_count": null,
   "metadata": {
    "colab": {},
    "colab_type": "code",
    "id": "QCWdKeBJy3xX"
   },
   "outputs": [],
   "source": [
    "stopwords = stopwords.words('english') + list(punctuation)"
   ]
  },
  {
   "cell_type": "markdown",
   "metadata": {
    "colab_type": "text",
    "id": "ZBiFFf853Bhj"
   },
   "source": [
    "## Data \n",
    "\n",
    "The data we will be looking at is the classic [IMDB Sentiment Analysis](https://ai.stanford.edu/~amaas/data/sentiment/) dataset. It is a cleaned up sentiment analysis dataset, consisting of film reviews from IMDB. Each review is given a binary score of _Positive_ or _Negative_. It has already been divided into 25k train and 25k validation sets.\n",
    "\n",
    "We will only be taking 10K samples for the validation because of RAM and time contraints"
   ]
  },
  {
   "cell_type": "code",
   "execution_count": null,
   "metadata": {
    "colab": {},
    "colab_type": "code",
    "id": "_pcd5aaDLl9r"
   },
   "outputs": [],
   "source": [
    "train_df = pd.read_csv('imdb-sentiment-train.csv')\n",
    "test_df = pd.read_csv('imdb-sentiment-test.csv').sample(10000)"
   ]
  },
  {
   "cell_type": "markdown",
   "metadata": {
    "colab_type": "text",
    "id": "9LcEJ72eWNMM"
   },
   "source": [
    "### Preprocessing\n",
    "\n",
    "Convert to ASCII for ease during this presentation. Will convert characters like `Ü` to `U`. It just reduces the unique token types for this workshop."
   ]
  },
  {
   "cell_type": "code",
   "execution_count": null,
   "metadata": {
    "colab": {},
    "colab_type": "code",
    "id": "SEzPt8hqWNse"
   },
   "outputs": [],
   "source": [
    "train_df.text = [unidecode(t) for t in train_df.text]\n",
    "test_df.text = [unidecode(t) for t in test_df.text]"
   ]
  },
  {
   "cell_type": "markdown",
   "metadata": {
    "colab_type": "text",
    "id": "uZ2XbD1t4Pas"
   },
   "source": [
    "[Tokenization](https://en.wikipedia.org/wiki/Lexical_analysis#Tokenization) is breaking up the text into usable pieces.\n",
    "\n",
    "A sentence like `'I don't like celery.'` might be tokenized as `['I', 'do', 'n't', 'like', 'celery', '.']`\n",
    "\n",
    "Do a simple tokenize on the texts for ease using NLTK's [`word_tokenize`](https://www.nltk.org/api/nltk.tokenize.html)"
   ]
  },
  {
   "cell_type": "code",
   "execution_count": 5,
   "metadata": {
    "colab": {
     "base_uri": "https://localhost:8080/",
     "height": 52
    },
    "colab_type": "code",
    "id": "OwBZcYv7jGCP",
    "outputId": "af6b549e-e9f1-4be4-c4c2-1d1c1dffbe56"
   },
   "outputs": [
    {
     "name": "stderr",
     "output_type": "stream",
     "text": [
      "100%|██████████| 25000/25000 [00:55<00:00, 450.34it/s]\n",
      "100%|██████████| 10000/10000 [00:21<00:00, 458.05it/s]\n"
     ]
    }
   ],
   "source": [
    "train_df['tokenized'] = [[t for t in word_tokenize(r.lower()) if t not in stopwords] for r in tqdm(train_df.text)]\n",
    "test_df['tokenized'] = [[t for t in word_tokenize(r.lower()) if t not in stopwords] for r in tqdm(test_df.text)]"
   ]
  },
  {
   "cell_type": "code",
   "execution_count": 6,
   "metadata": {
    "colab": {
     "base_uri": "https://localhost:8080/",
     "height": 206
    },
    "colab_type": "code",
    "id": "wNS44cdnvIhr",
    "outputId": "e5a1a7a4-759c-469b-af4a-3ee07010ba8d"
   },
   "outputs": [
    {
     "data": {
      "text/html": [
       "<div>\n",
       "<style scoped>\n",
       "    .dataframe tbody tr th:only-of-type {\n",
       "        vertical-align: middle;\n",
       "    }\n",
       "\n",
       "    .dataframe tbody tr th {\n",
       "        vertical-align: top;\n",
       "    }\n",
       "\n",
       "    .dataframe thead th {\n",
       "        text-align: right;\n",
       "    }\n",
       "</style>\n",
       "<table border=\"1\" class=\"dataframe\">\n",
       "  <thead>\n",
       "    <tr style=\"text-align: right;\">\n",
       "      <th></th>\n",
       "      <th>text</th>\n",
       "      <th>sentiment</th>\n",
       "      <th>tokenized</th>\n",
       "    </tr>\n",
       "  </thead>\n",
       "  <tbody>\n",
       "    <tr>\n",
       "      <th>0</th>\n",
       "      <td>Steven Spielberg (at 24) had already directed ...</td>\n",
       "      <td>1</td>\n",
       "      <td>[steven, spielberg, 24, already, directed, two...</td>\n",
       "    </tr>\n",
       "    <tr>\n",
       "      <th>1</th>\n",
       "      <td>This is a very light headed comedy about a won...</td>\n",
       "      <td>1</td>\n",
       "      <td>[light, headed, comedy, wonderful, family, son...</td>\n",
       "    </tr>\n",
       "    <tr>\n",
       "      <th>2</th>\n",
       "      <td>When I was little, my parents got this movie f...</td>\n",
       "      <td>1</td>\n",
       "      <td>[little, parents, got, movie, watch, really, l...</td>\n",
       "    </tr>\n",
       "    <tr>\n",
       "      <th>3</th>\n",
       "      <td>Hilarious, evocative, confusing, brilliant fil...</td>\n",
       "      <td>1</td>\n",
       "      <td>[hilarious, evocative, confusing, brilliant, f...</td>\n",
       "    </tr>\n",
       "    <tr>\n",
       "      <th>4</th>\n",
       "      <td>All Dogs Go to Heaven plays on the canine crim...</td>\n",
       "      <td>1</td>\n",
       "      <td>[dogs, go, heaven, plays, canine, criminal, un...</td>\n",
       "    </tr>\n",
       "  </tbody>\n",
       "</table>\n",
       "</div>"
      ],
      "text/plain": [
       "                                                text  ...                                          tokenized\n",
       "0  Steven Spielberg (at 24) had already directed ...  ...  [steven, spielberg, 24, already, directed, two...\n",
       "1  This is a very light headed comedy about a won...  ...  [light, headed, comedy, wonderful, family, son...\n",
       "2  When I was little, my parents got this movie f...  ...  [little, parents, got, movie, watch, really, l...\n",
       "3  Hilarious, evocative, confusing, brilliant fil...  ...  [hilarious, evocative, confusing, brilliant, f...\n",
       "4  All Dogs Go to Heaven plays on the canine crim...  ...  [dogs, go, heaven, plays, canine, criminal, un...\n",
       "\n",
       "[5 rows x 3 columns]"
      ]
     },
     "execution_count": 6,
     "metadata": {
      "tags": []
     },
     "output_type": "execute_result"
    }
   ],
   "source": [
    "train_df.head()"
   ]
  },
  {
   "cell_type": "markdown",
   "metadata": {
    "colab_type": "text",
    "id": "1_YFIBERM0kc"
   },
   "source": [
    "## Some Minor Data Exporation\n",
    "\n",
    "It's always good to look at the data at least a little bit before working with it.\n",
    "\n",
    "### Class Split\n",
    "\n",
    "The classes are evenly split, so class imbalance won't be a problem.\n",
    "\n",
    "- `0` == _Negative_\n",
    "- `1` == _Positive_"
   ]
  },
  {
   "cell_type": "code",
   "execution_count": 7,
   "metadata": {
    "colab": {
     "base_uri": "https://localhost:8080/",
     "height": 331
    },
    "colab_type": "code",
    "id": "f7WQZSTQ1yf3",
    "outputId": "4d2edbad-98de-4752-d29b-37f893a216f9"
   },
   "outputs": [
    {
     "name": "stdout",
     "output_type": "stream",
     "text": [
      "1    12500\n",
      "0    12500\n",
      "Name: sentiment, dtype: int64\n"
     ]
    },
    {
     "data": {
      "text/plain": [
       "<matplotlib.axes._subplots.AxesSubplot at 0x7f9e08287f60>"
      ]
     },
     "execution_count": 7,
     "metadata": {
      "tags": []
     },
     "output_type": "execute_result"
    },
    {
     "data": {
      "image/png": "[encoded data removed]",
      "text/plain": [
       "<Figure size 432x288 with 1 Axes>"
      ]
     },
     "metadata": {
      "tags": []
     },
     "output_type": "display_data"
    }
   ],
   "source": [
    "print(train_df.sentiment.value_counts())\n",
    "train_df.sentiment.value_counts().plot.bar()"
   ]
  },
  {
   "cell_type": "markdown",
   "metadata": {
    "colab_type": "text",
    "id": "YCMLCXKN4cb5"
   },
   "source": [
    "### Review Length\n",
    "\n",
    "We can see that the majority of reviews are roughly under 500 tokens long. Because we will be doing sentiment using a _Feed Forward_ network, we will not really need to worry about sequence length. When dealing with _Recurrent_ models, _Attention_ models, etc., it would need to be taken into consideration."
   ]
  },
  {
   "cell_type": "code",
   "execution_count": 8,
   "metadata": {
    "colab": {
     "base_uri": "https://localhost:8080/",
     "height": 588
    },
    "colab_type": "code",
    "id": "3wBYMB90G3Nd",
    "outputId": "0f13e526-8f7c-4f4f-b99a-fd5895f567a4"
   },
   "outputs": [
    {
     "data": {
      "text/plain": [
       "array([[<matplotlib.axes._subplots.AxesSubplot object at 0x7f9e081cef60>]],\n",
       "      dtype=object)"
      ]
     },
     "execution_count": 8,
     "metadata": {
      "tags": []
     },
     "output_type": "execute_result"
    },
    {
     "data": {
      "image/png": "[encoded data removed]",
      "text/plain": [
       "<Figure size 1080x648 with 1 Axes>"
      ]
     },
     "metadata": {
      "tags": []
     },
     "output_type": "display_data"
    }
   ],
   "source": [
    "train_df['token_count'] = [len(t.split()) for t in train_df['text']]\n",
    "test_df['token_count'] = [len(t.split()) for t in test_df['text']]\n",
    "train_df.hist(column='token_count', bins=30, figsize=(15, 9))"
   ]
  },
  {
   "cell_type": "markdown",
   "metadata": {
    "colab_type": "text",
    "id": "9l3gSq9GXaXe"
   },
   "source": [
    "### Distribution of tokens\n",
    "\n",
    "Token counts in a dataset usually have a [Zipfian Distribution](https://en.wikipedia.org/wiki/Zipf%27s_law) where the frequency of a token is inversely proportional to its rank.\n",
    "\n",
    "The majority of _stopwords_ have a really high frequency whereas content words usually dont.\n",
    "\n",
    "This is important for a couple of the feature extraction methods. Having a very large vocabulary can make your feature matrices especially large. "
   ]
  },
  {
   "cell_type": "code",
   "execution_count": 9,
   "metadata": {
    "colab": {
     "base_uri": "https://localhost:8080/",
     "height": 600
    },
    "colab_type": "code",
    "id": "0Z3DmHyYX93F",
    "outputId": "fdc1c7a2-87a4-42aa-d76d-0f47b8b85407"
   },
   "outputs": [
    {
     "data": {
      "text/plain": [
       "<matplotlib.axes._subplots.AxesSubplot at 0x7f9e07c68320>"
      ]
     },
     "execution_count": 9,
     "metadata": {
      "tags": []
     },
     "output_type": "execute_result"
    },
    {
     "data": {
      "image/png": "[encoded data removed]",
      "text/plain": [
       "<Figure size 1080x648 with 1 Axes>"
      ]
     },
     "metadata": {
      "tags": []
     },
     "output_type": "display_data"
    }
   ],
   "source": [
    "# Get token counts\n",
    "tokens, counts = zip(*sorted(Counter([t.lower() for s in train_df.text for t in s.split()]).items(), key=lambda x: x[1])[::-1])\n",
    "df = pd.DataFrame({\n",
    "    'tokens': tokens,\n",
    "    'counts': counts\n",
    "})\n",
    "df.sort_index(ascending=True).head(90).plot.bar(x='tokens', y='counts', figsize=(15, 9))"
   ]
  },
  {
   "cell_type": "markdown",
   "metadata": {
    "colab_type": "text",
    "id": "AGp-eD85g5HB"
   },
   "source": [
    "Our dataset certainly seems to follow a Zipfian distribution. For the sake of resources, we can limit our vocabulary by the frequency of tokens. We can remove stopwords and limit our vocab by frequency.\n",
    "\n",
    "Even after doing that, our dataset still fits the _Zipfian_ distribution."
   ]
  },
  {
   "cell_type": "code",
   "execution_count": 10,
   "metadata": {
    "colab": {
     "base_uri": "https://localhost:8080/",
     "height": 611
    },
    "colab_type": "code",
    "id": "dkRUhIO731yP",
    "outputId": "8c8010c3-e91e-4be4-aa75-829cd64aeb67"
   },
   "outputs": [
    {
     "data": {
      "text/plain": [
       "<matplotlib.axes._subplots.AxesSubplot at 0x7f9e07c1a400>"
      ]
     },
     "execution_count": 10,
     "metadata": {
      "tags": []
     },
     "output_type": "execute_result"
    },
    {
     "data": {
      "image/png": "[encoded data removed]",
      "text/plain": [
       "<Figure size 1080x648 with 1 Axes>"
      ]
     },
     "metadata": {
      "tags": []
     },
     "output_type": "display_data"
    }
   ],
   "source": [
    "# Get token counts\n",
    "tokens, counts = zip(*sorted(Counter([t for s in train_df.tokenized for t in s]).items(), key=lambda x: x[1])[::-1])\n",
    "df = pd.DataFrame({\n",
    "    'tokens': tokens,\n",
    "    'counts': counts\n",
    "})\n",
    "\n",
    "df.sort_index(ascending=True).head(90).plot.bar(x='tokens', y='counts', figsize=(15, 9))"
   ]
  },
  {
   "cell_type": "markdown",
   "metadata": {
    "colab_type": "text",
    "id": "hfsSpQSI9OsD"
   },
   "source": [
    "## Testing Model\n",
    "\n",
    "We will be testing our feature extraction on a _Feed Forward_ neural net. We will be using a [_Keras_](https://www.tensorflow.org/guide/keras) model for ease.\n",
    "\n",
    "We will use a model with the following hyperparams:\n",
    "\n",
    "- _Learning Rate_ == 0.0001\n",
    "- _Optimizer_ == _Adam_\n",
    "- _Layer Activations_ == _Sigmoid_\n",
    "- _Loss_ == _Binary Crossentropy_\n",
    "\n",
    "```\n",
    "_________________________________________________________________\n",
    "Layer (type)                 Output Shape              Param #   \n",
    "=================================================================\n",
    "dense (Dense)             (None, 128)               2560128   \n",
    "_________________________________________________________________\n",
    "dropout (Dropout)         (None, 128)               0         \n",
    "_________________________________________________________________\n",
    "dense_0 (Dense)             (None, 64)                8256      \n",
    "_________________________________________________________________\n",
    "dropout_0 (Dropout)         (None, 64)                0         \n",
    "_________________________________________________________________\n",
    "dense_1 (Dense)             (None, 64)                4160      \n",
    "_________________________________________________________________\n",
    "dropout_1 (Dropout)         (None, 64)                0         \n",
    "_________________________________________________________________\n",
    "dense_2 (Dense)             (None, 64)                4160      \n",
    "_________________________________________________________________\n",
    "dropout_2 (Dropout)         (None, 64)                0         \n",
    "_________________________________________________________________\n",
    "dense_3 (Dense)             (None, 1)                 65        \n",
    "=================================================================\n",
    "Total params: 2,576,769\n",
    "Trainable params: 2,576,769\n",
    "Non-trainable params: 0\n",
    "_________________________________________________________________\n",
    "```"
   ]
  },
  {
   "cell_type": "code",
   "execution_count": null,
   "metadata": {
    "colab": {},
    "colab_type": "code",
    "id": "pNR9LUC29RQA"
   },
   "outputs": [],
   "source": [
    "%tensorflow_version 1.x\n",
    "import tensorflow as tf\n",
    "from tensorflow.keras.models import Sequential\n",
    "from tensorflow.keras.layers import Dense, Dropout\n",
    "from tensorflow.keras.optimizers import Adam"
   ]
  },
  {
   "cell_type": "code",
   "execution_count": null,
   "metadata": {
    "colab": {},
    "colab_type": "code",
    "id": "Nq1WtadX9UWA"
   },
   "outputs": [],
   "source": [
    "def build_model(vector_length):\n",
    "    np.random.seed(42)\n",
    "    model = Sequential()\n",
    "    model.add(Dense(128, activation='sigmoid', input_shape=(vector_length, )))\n",
    "    model.add(Dropout(0.3))\n",
    "    for _ in range(3):\n",
    "        model.add(Dense(64, activation='sigmoid'))\n",
    "        model.add(Dropout(0.3))\n",
    "    model.add(Dense(1, activation='sigmoid'))\n",
    "    adam = Adam(learning_rate=0.0001)\n",
    "    model.compile(optimizer=adam, loss='binary_crossentropy', metrics=['accuracy'])\n",
    "    # print(model.summary())\n",
    "    return model"
   ]
  },
  {
   "cell_type": "markdown",
   "metadata": {
    "colab_type": "text",
    "id": "TD1DQriEhOwB"
   },
   "source": [
    "## Bag-of-Words Encoding\n",
    "\n",
    "Bag-of-Words (BOW) encoding creates vectors for words in which the length of the vector is the size of the vocabulary, and each token has an index. These vectors are very sparse. Most of the elements are 0."
   ]
  },
  {
   "cell_type": "code",
   "execution_count": 13,
   "metadata": {
    "colab": {
     "base_uri": "https://localhost:8080/",
     "height": 225
    },
    "colab_type": "code",
    "id": "tqHasfzYx_CG",
    "outputId": "e2fbdb7c-9224-44cb-cc74-4df06e243c5b"
   },
   "outputs": [
    {
     "data": {
      "text/plain": [
       "{'!': 8,\n",
       " '.': 11,\n",
       " 'I': 9,\n",
       " 'They': 6,\n",
       " 'We': 0,\n",
       " 'but': 10,\n",
       " 'cheese': 7,\n",
       " 'do': 5,\n",
       " 'like': 3,\n",
       " 'mild': 1,\n",
       " 'not': 2,\n",
       " 'stinky': 4}"
      ]
     },
     "execution_count": 13,
     "metadata": {
      "tags": []
     },
     "output_type": "execute_result"
    }
   ],
   "source": [
    "corpus = [\n",
    "  ['I', 'like', 'cheese', '.'],\n",
    "  ['We', 'like', 'stinky', 'cheese', '.'],\n",
    "  ['They', 'do', 'not', 'like', 'stinky', 'cheese', '!'],\n",
    "  ['I', 'like', 'stinky', 'cheese', 'but', 'not', 'mild', 'cheese', '.']\n",
    "]\n",
    "vocab = set(t for s in corpus for t in s)\n",
    "indexer = {t: i for i, t in enumerate(vocab)}\n",
    "vocab_len = len(vocab)\n",
    "indexer"
   ]
  },
  {
   "cell_type": "markdown",
   "metadata": {
    "colab_type": "text",
    "id": "cYu3P3KX7JTB"
   },
   "source": [
    "We can turn our sentences into vectors"
   ]
  },
  {
   "cell_type": "code",
   "execution_count": 14,
   "metadata": {
    "colab": {
     "base_uri": "https://localhost:8080/",
     "height": 34
    },
    "colab_type": "code",
    "id": "-j80H2GE2V6g",
    "outputId": "1687d51c-1b0f-40be-e25c-08860f201f6e"
   },
   "outputs": [
    {
     "data": {
      "text/plain": [
       "array([0., 0., 0., 1., 0., 0., 0., 1., 0., 1., 0., 1.])"
      ]
     },
     "execution_count": 14,
     "metadata": {
      "tags": []
     },
     "output_type": "execute_result"
    }
   ],
   "source": [
    "sent_i = 0\n",
    "vec = np.zeros(vocab_len)\n",
    "for t in corpus[sent_i]:\n",
    "    vec[indexer[t]] += 1\n",
    "vec"
   ]
  },
  {
   "cell_type": "markdown",
   "metadata": {
    "colab_type": "text",
    "id": "u-38zl277NvH"
   },
   "source": [
    "And then reversed. However, we can't preserve order."
   ]
  },
  {
   "cell_type": "code",
   "execution_count": 15,
   "metadata": {
    "colab": {
     "base_uri": "https://localhost:8080/",
     "height": 86
    },
    "colab_type": "code",
    "id": "AqP8l9Sm43VQ",
    "outputId": "cdffdd8b-91a3-4ea2-fd69-ad945ee35944"
   },
   "outputs": [
    {
     "name": "stdout",
     "output_type": "stream",
     "text": [
      "Token: like    | Count: 1\n",
      "Token: cheese  | Count: 1\n",
      "Token: I       | Count: 1\n",
      "Token: .       | Count: 1\n"
     ]
    }
   ],
   "source": [
    "indexer_inverse = {v: k for k, v in indexer.items()}\n",
    "for i, v in enumerate(vec):\n",
    "    if v:\n",
    "        print(f'Token: {indexer_inverse[i]:<7} | Count: {int(v)}')"
   ]
  },
  {
   "cell_type": "markdown",
   "metadata": {
    "colab_type": "text",
    "id": "HxqUPpv575b0"
   },
   "source": [
    "[_Scikit-Learn_](https://scikit-learn.org/) is a good implementation of of this.\n",
    "\n",
    "We will limit the total vocabulary to 20k. It will prioritize tokens with a higher frequency.\n",
    "\n",
    "#### [`CountVectorizer`](https://scikit-learn.org/stable/modules/generated/sklearn.feature_extraction.text.CountVectorizer.html)"
   ]
  },
  {
   "cell_type": "code",
   "execution_count": 16,
   "metadata": {
    "colab": {
     "base_uri": "https://localhost:8080/",
     "height": 89
    },
    "colab_type": "code",
    "id": "lMTKbP-i27VX",
    "outputId": "3d17f61e-cae2-4842-df08-446739600abe"
   },
   "outputs": [
    {
     "name": "stderr",
     "output_type": "stream",
     "text": [
      "/usr/local/lib/python3.6/dist-packages/sklearn/feature_extraction/text.py:507: UserWarning: The parameter 'token_pattern' will not be used since 'tokenizer' is not None'\n",
      "  warnings.warn(\"The parameter 'token_pattern' will not be used\"\n"
     ]
    },
    {
     "name": "stdout",
     "output_type": "stream",
     "text": [
      "Length of vocabulary: 20000\n"
     ]
    }
   ],
   "source": [
    "from sklearn.feature_extraction.text import CountVectorizer\n",
    "\n",
    "def dummy_func(doc):\n",
    "  \"\"\"Must pass a dummy function to avoid sklearn automatically tokenizing.\"\"\"\n",
    "  return doc\n",
    "\n",
    "one_hot = CountVectorizer(preprocessor=dummy_func, tokenizer=dummy_func, min_df=5, max_features=20000)\n",
    "one_hot.fit(train_df.tokenized)\n",
    "print(f'Length of vocabulary: {len(one_hot.vocabulary_)}')"
   ]
  },
  {
   "cell_type": "markdown",
   "metadata": {
    "colab_type": "text",
    "id": "E2EDkkvLCHxg"
   },
   "source": [
    "It's pretty easy to use"
   ]
  },
  {
   "cell_type": "code",
   "execution_count": 17,
   "metadata": {
    "colab": {
     "base_uri": "https://localhost:8080/",
     "height": 69
    },
    "colab_type": "code",
    "id": "aGnaDVCL3Iit",
    "outputId": "c42cbb45-34b6-4f53-bab5-0021f4a7b360"
   },
   "outputs": [
    {
     "name": "stdout",
     "output_type": "stream",
     "text": [
      "Text: Steven Spielberg (at 24) had already directed two \n",
      "Feature Dimentions: (1, 20000)\n"
     ]
    },
    {
     "data": {
      "text/plain": [
       "array([[14,  0,  0, ...,  0,  0,  0]])"
      ]
     },
     "execution_count": 17,
     "metadata": {
      "tags": []
     },
     "output_type": "execute_result"
    }
   ],
   "source": [
    "print(f'Text: {train_df.text.values[0][:50]}')\n",
    "vec = one_hot.transform([train_df.tokenized.values[0]]).toarray()\n",
    "print(f'Feature Dimentions: {vec.shape}')\n",
    "vec"
   ]
  },
  {
   "cell_type": "markdown",
   "metadata": {
    "colab_type": "text",
    "id": "O7uBQSteGJGP"
   },
   "source": [
    "### Training"
   ]
  },
  {
   "cell_type": "code",
   "execution_count": 18,
   "metadata": {
    "colab": {
     "base_uri": "https://localhost:8080/",
     "height": 506
    },
    "colab_type": "code",
    "id": "x0z2bh7W9nQG",
    "outputId": "0ec3372c-fb80-469e-8827-aeee22a4ab17"
   },
   "outputs": [
    {
     "name": "stdout",
     "output_type": "stream",
     "text": [
      "WARNING:tensorflow:From /usr/local/lib/python3.6/dist-packages/tensorflow_core/python/ops/resource_variable_ops.py:1630: calling BaseResourceVariable.__init__ (from tensorflow.python.ops.resource_variable_ops) with constraint is deprecated and will be removed in a future version.\n",
      "Instructions for updating:\n",
      "If using Keras pass *_constraint arguments to layers.\n",
      "WARNING:tensorflow:From /usr/local/lib/python3.6/dist-packages/tensorflow_core/python/ops/nn_impl.py:183: where (from tensorflow.python.ops.array_ops) is deprecated and will be removed in a future version.\n",
      "Instructions for updating:\n",
      "Use tf.where in 2.0, which has the same broadcast rule as np.where\n",
      "Train on 25000 samples, validate on 10000 samples\n",
      "Epoch 1/10\n",
      "25000/25000 [==============================] - 12s 474us/sample - loss: 0.7153 - acc: 0.5068 - val_loss: 0.6801 - val_acc: 0.8155\n",
      "Epoch 2/10\n",
      "25000/25000 [==============================] - 12s 460us/sample - loss: 0.6247 - acc: 0.6480 - val_loss: 0.4505 - val_acc: 0.8535\n",
      "Epoch 3/10\n",
      "25000/25000 [==============================] - 11s 449us/sample - loss: 0.3617 - acc: 0.8617 - val_loss: 0.3068 - val_acc: 0.8799\n",
      "Epoch 4/10\n",
      "25000/25000 [==============================] - 11s 428us/sample - loss: 0.2725 - acc: 0.8964 - val_loss: 0.2889 - val_acc: 0.8858\n",
      "Epoch 5/10\n",
      "25000/25000 [==============================] - 11s 440us/sample - loss: 0.2404 - acc: 0.9116 - val_loss: 0.2897 - val_acc: 0.8878\n",
      "Epoch 6/10\n",
      "25000/25000 [==============================] - 11s 447us/sample - loss: 0.2154 - acc: 0.9226 - val_loss: 0.2863 - val_acc: 0.8890\n",
      "Epoch 7/10\n",
      "25000/25000 [==============================] - 11s 446us/sample - loss: 0.1961 - acc: 0.9301 - val_loss: 0.2897 - val_acc: 0.8896\n",
      "Epoch 8/10\n",
      "25000/25000 [==============================] - 11s 446us/sample - loss: 0.1781 - acc: 0.9376 - val_loss: 0.2981 - val_acc: 0.8891\n",
      "Epoch 9/10\n",
      "25000/25000 [==============================] - 11s 440us/sample - loss: 0.1629 - acc: 0.9434 - val_loss: 0.3057 - val_acc: 0.8896\n",
      "Epoch 10/10\n",
      "25000/25000 [==============================] - 11s 447us/sample - loss: 0.1502 - acc: 0.9488 - val_loss: 0.3148 - val_acc: 0.8865\n"
     ]
    }
   ],
   "source": [
    "oh_model = build_model(len(one_hot.vocabulary_))\n",
    "oh_history = oh_model.fit(\n",
    "    x=one_hot.transform(train_df.tokenized), \n",
    "    y=train_df.sentiment,\n",
    "    epochs=10,\n",
    "    validation_data=(one_hot.transform(test_df.tokenized), test_df.sentiment)\n",
    "    )"
   ]
  },
  {
   "cell_type": "markdown",
   "metadata": {
    "colab_type": "text",
    "id": "sEY9wUL_GOhZ"
   },
   "source": [
    "### Prediction"
   ]
  },
  {
   "cell_type": "code",
   "execution_count": 19,
   "metadata": {
    "colab": {
     "base_uri": "https://localhost:8080/",
     "height": 104
    },
    "colab_type": "code",
    "id": "6e8wEt2nqVkc",
    "outputId": "d3fa10a6-67f5-4d38-8d87-1e8598395f2a"
   },
   "outputs": [
    {
     "name": "stdout",
     "output_type": "stream",
     "text": [
      "0.15896 | Tacos in England is absolutely terrible .\n",
      "0.54170 | Tacos in England absolutely terible .\n",
      "0.19882 | Tacos in Prague are not so bad .\n",
      "0.65082 | Mexican food in SD is the best .\n",
      "0.46305 | I'm a big fan of tacos .\n"
     ]
    }
   ],
   "source": [
    "def oh_predict(text):\n",
    "  return oh_model.predict(one_hot.transform([text.lower().split()]))[0][0]\n",
    "\n",
    "def oh_print(text):\n",
    "  print(f'{oh_predict(text):<.5f} | {text}')\n",
    "\n",
    "t1 = '''Tacos in England is absolutely terrible .'''\n",
    "t2 = '''Tacos in England absolutely terible .'''\n",
    "t3 = '''Tacos in Prague are not so bad .'''\n",
    "t4 = '''Mexican food in SD is the best .'''\n",
    "t5 = '''I'm a big fan of tacos .'''\n",
    "\n",
    "oh_print(t1)\n",
    "oh_print(t2)\n",
    "oh_print(t3)\n",
    "oh_print(t4)\n",
    "oh_print(t5)"
   ]
  },
  {
   "cell_type": "markdown",
   "metadata": {
    "colab_type": "text",
    "id": "hOLfC1YgGYU3"
   },
   "source": [
    "## TF*IDF\n",
    "\n",
    "[_tf*idf_](https://en.wikipedia.org/wiki/Tf%E2%80%93idf) is a widely used technique in NLP for feature and keyword extraction. \n",
    "\n",
    "By combining the frequency (how many times a term appears in a document) by the inverse document frequency (how many documents a term appears in), we are able to filter out common words and promote unique content words.\n",
    "\n",
    "[_Scikit-Learn_](https://scikit-learn.org/) also has a very good implementation of it.\n",
    "\n",
    "#### [`TFIDFVectorizer`](https://scikit-learn.org/stable/modules/generated/sklearn.feature_extraction.text.TfidfVectorizer.html)"
   ]
  },
  {
   "cell_type": "code",
   "execution_count": 20,
   "metadata": {
    "colab": {
     "base_uri": "https://localhost:8080/",
     "height": 89
    },
    "colab_type": "code",
    "id": "ExUbVNg0BeyW",
    "outputId": "691cbada-fa06-474f-aa9f-6c9442775ba2"
   },
   "outputs": [
    {
     "name": "stderr",
     "output_type": "stream",
     "text": [
      "/usr/local/lib/python3.6/dist-packages/sklearn/feature_extraction/text.py:507: UserWarning: The parameter 'token_pattern' will not be used since 'tokenizer' is not None'\n",
      "  warnings.warn(\"The parameter 'token_pattern' will not be used\"\n"
     ]
    },
    {
     "name": "stdout",
     "output_type": "stream",
     "text": [
      "Length of vocabulary: 20000\n"
     ]
    }
   ],
   "source": [
    "from sklearn.feature_extraction.text import TfidfVectorizer\n",
    "\n",
    "tfidf = TfidfVectorizer(preprocessor=dummy_func, tokenizer=dummy_func, min_df=5, max_features=20000)\n",
    "tfidf.fit(train_df.tokenized)\n",
    "print(f'Length of vocabulary: {len(tfidf.vocabulary_)}')"
   ]
  },
  {
   "cell_type": "markdown",
   "metadata": {
    "colab_type": "text",
    "id": "Pb_z2NclHVpB"
   },
   "source": [
    "### Training"
   ]
  },
  {
   "cell_type": "code",
   "execution_count": 21,
   "metadata": {
    "colab": {
     "base_uri": "https://localhost:8080/",
     "height": 382
    },
    "colab_type": "code",
    "id": "502vH5LNIkm5",
    "outputId": "25297dbc-e912-475b-f1b0-e2c5904f4f9c"
   },
   "outputs": [
    {
     "name": "stdout",
     "output_type": "stream",
     "text": [
      "Train on 25000 samples, validate on 10000 samples\n",
      "Epoch 1/10\n",
      "25000/25000 [==============================] - 16s 631us/sample - loss: 0.7193 - acc: 0.4935 - val_loss: 0.6928 - val_acc: 0.5094\n",
      "Epoch 2/10\n",
      "25000/25000 [==============================] - 15s 603us/sample - loss: 0.7082 - acc: 0.5043 - val_loss: 0.6925 - val_acc: 0.5094\n",
      "Epoch 3/10\n",
      "25000/25000 [==============================] - 15s 601us/sample - loss: 0.7056 - acc: 0.4969 - val_loss: 0.6928 - val_acc: 0.4906\n",
      "Epoch 4/10\n",
      "25000/25000 [==============================] - 15s 604us/sample - loss: 0.7022 - acc: 0.5004 - val_loss: 0.6917 - val_acc: 0.5094\n",
      "Epoch 5/10\n",
      "25000/25000 [==============================] - 15s 600us/sample - loss: 0.7001 - acc: 0.5043 - val_loss: 0.6908 - val_acc: 0.5254\n",
      "Epoch 6/10\n",
      "25000/25000 [==============================] - 15s 607us/sample - loss: 0.6955 - acc: 0.5137 - val_loss: 0.6881 - val_acc: 0.4928\n",
      "Epoch 7/10\n",
      "25000/25000 [==============================] - 15s 596us/sample - loss: 0.6875 - acc: 0.5418 - val_loss: 0.6702 - val_acc: 0.8352\n",
      "Epoch 8/10\n",
      "25000/25000 [==============================] - 15s 602us/sample - loss: 0.6426 - acc: 0.6451 - val_loss: 0.5603 - val_acc: 0.8419\n",
      "Epoch 9/10\n",
      "25000/25000 [==============================] - 15s 598us/sample - loss: 0.5124 - acc: 0.7650 - val_loss: 0.4084 - val_acc: 0.8503\n",
      "Epoch 10/10\n",
      "25000/25000 [==============================] - 15s 600us/sample - loss: 0.4456 - acc: 0.7982 - val_loss: 0.3603 - val_acc: 0.8582\n"
     ]
    }
   ],
   "source": [
    "tfidf_model = build_model(len(tfidf.vocabulary_))\n",
    "tfidf_history = tfidf_model.fit(\n",
    "    x=tfidf.transform(train_df.tokenized), \n",
    "    y=train_df.sentiment,\n",
    "    epochs=10,\n",
    "    validation_data=(tfidf.transform(test_df.tokenized), test_df.sentiment)\n",
    "    )"
   ]
  },
  {
   "cell_type": "markdown",
   "metadata": {
    "colab_type": "text",
    "id": "iZmDY8r_HYeR"
   },
   "source": [
    "### Prediction"
   ]
  },
  {
   "cell_type": "code",
   "execution_count": 22,
   "metadata": {
    "colab": {
     "base_uri": "https://localhost:8080/",
     "height": 104
    },
    "colab_type": "code",
    "id": "cu2ClV0Ts4yj",
    "outputId": "4615452b-5363-4ecb-f665-48b551de9edf"
   },
   "outputs": [
    {
     "name": "stdout",
     "output_type": "stream",
     "text": [
      "0.24751 | Tacos in England is absolutely terrible .\n",
      "0.70745 | Tacos in England absolutely terible .\n",
      "0.30254 | Tacos in Prague are not so bad .\n",
      "0.80555 | Mexican food in SD is the best .\n",
      "0.72058 | I'm a big fan of tacos .\n"
     ]
    }
   ],
   "source": [
    "def tfidf_predict(text):\n",
    "  return tfidf_model.predict(tfidf.transform([text.lower().split()]))[0][0]\n",
    "\n",
    "def tfidf_print(text):\n",
    "  print(f'{tfidf_predict(text):<.5f} | {text}')\n",
    "\n",
    "tfidf_print(t1)\n",
    "tfidf_print(t2)\n",
    "tfidf_print(t3)\n",
    "tfidf_print(t4)\n",
    "tfidf_print(t5)"
   ]
  },
  {
   "cell_type": "markdown",
   "metadata": {
    "colab_type": "text",
    "id": "9IGIG_lNHbkf"
   },
   "source": [
    "## Subword Encoding\n",
    "\n",
    "Also known as [_Byte Pair Encoding_](https://en.wikipedia.org/wiki/Byte_pair_encoding). This feature extraction has become very popular in the past couple years. Because writing is frequently non-standard, BOW encoding is often not ideal. Because BOW and tfidf encoding require a static vocabulary, it cannot handle new words, misspelled words, etc. If the vocabulary was built to include _terrible_ but not _terrible_, it could have a negative effect on the model.\n",
    "\n",
    "_Byte Pair Encoding_ starts by looking at the training dataset on a character level. It find the most frequent pairs of characters, registers that as a subword, and then will treat each occurence of that sequence as one unit. \n",
    "\n",
    "- `H e r e  i s  a  n i c e  s e n t e n c e .`\n",
    "- `H e r e  i s  a  n i c e  s en t en c e .`\n",
    "- `H e r e  i s  a  n i ce  s en t en ce .`\n",
    "- ...\n",
    "\n",
    "This is able to capture things like word stems and morphology.\n",
    "\n",
    "Tensorflow as a good and efficient implementation of this.\n",
    "\n",
    "#### [`SubwordTextEncoder`](https://www.tensorflow.org/datasets/api_docs/python/tfds/features/text/SubwordTextEncoder)"
   ]
  },
  {
   "cell_type": "code",
   "execution_count": 24,
   "metadata": {
    "colab": {
     "base_uri": "https://localhost:8080/",
     "height": 34
    },
    "colab_type": "code",
    "id": "07B9ZY9NbLGX",
    "outputId": "d5ddcd20-4b1f-4cd3-8928-e2cbf3018a8e"
   },
   "outputs": [
    {
     "name": "stdout",
     "output_type": "stream",
     "text": [
      "Vocabulary size: 20068\n"
     ]
    }
   ],
   "source": [
    "import tensorflow_datasets as tfds\n",
    "\n",
    "swe_encoder = tfds.features.text.SubwordTextEncoder.build_from_corpus(\n",
    "    train_df.text, target_vocab_size=20000)\n",
    "print(f'Vocabulary size: {swe_encoder.vocab_size}')"
   ]
  },
  {
   "cell_type": "markdown",
   "metadata": {
    "colab_type": "text",
    "id": "gXJEA4y3JeFm"
   },
   "source": [
    "We can see how it splits up text here."
   ]
  },
  {
   "cell_type": "code",
   "execution_count": 25,
   "metadata": {
    "colab": {
     "base_uri": "https://localhost:8080/",
     "height": 156
    },
    "colab_type": "code",
    "id": "601B5mukbK-H",
    "outputId": "e1215b21-8b13-4528-b70f-fddbb913fa6b"
   },
   "outputs": [
    {
     "name": "stdout",
     "output_type": "stream",
     "text": [
      "Encoded: [1668, 8, 4, 1945, 9051, 19858] \n",
      " ----------\n",
      "Decoded: Here \n",
      "Decoded: is \n",
      "Decoded: a \n",
      "Decoded: standard \n",
      "Decoded: sentence\n",
      "Decoded: .\n"
     ]
    }
   ],
   "source": [
    "text = 'Here is a standard sentence.'  # Standard Words\n",
    "# text = 'This sentence is more standarder!'  # Non-standard word\n",
    "enc = swe_encoder.encode(text)\n",
    "print(f'Encoded: {enc}', '\\n', '-'*10)\n",
    "for e in enc:\n",
    "    print(f'Decoded: {swe_encoder.decode([e])}')"
   ]
  },
  {
   "cell_type": "markdown",
   "metadata": {
    "colab_type": "text",
    "id": "Wks6R_69KC-L"
   },
   "source": [
    "However, we still need to convert our Subword encodings into vectors. They will function just like the one-hot vectors"
   ]
  },
  {
   "cell_type": "code",
   "execution_count": 26,
   "metadata": {
    "colab": {
     "base_uri": "https://localhost:8080/",
     "height": 235
    },
    "colab_type": "code",
    "id": "d-qgphVZfDQn",
    "outputId": "e75b0357-1090-47ab-e74e-bb142b58c68c"
   },
   "outputs": [
    {
     "ename": "NameError",
     "evalue": "ignored",
     "output_type": "error",
     "traceback": [
      "\u001b[0;31m---------------------------------------------------------------------------\u001b[0m",
      "\u001b[0;31mNameError\u001b[0m                                 Traceback (most recent call last)",
      "\u001b[0;32m<ipython-input-26-cebe30517e05>\u001b[0m in \u001b[0;36m<module>\u001b[0;34m()\u001b[0m\n\u001b[0;32m----> 1\u001b[0;31m \u001b[0mswe_train_x\u001b[0m \u001b[0;34m=\u001b[0m \u001b[0mnp\u001b[0m\u001b[0;34m.\u001b[0m\u001b[0mzeros\u001b[0m\u001b[0;34m(\u001b[0m\u001b[0;34m(\u001b[0m\u001b[0mlen\u001b[0m\u001b[0;34m(\u001b[0m\u001b[0mtrain_df\u001b[0m\u001b[0;34m)\u001b[0m\u001b[0;34m,\u001b[0m \u001b[0mencoder\u001b[0m\u001b[0;34m.\u001b[0m\u001b[0mvocab_size\u001b[0m\u001b[0;34m)\u001b[0m\u001b[0;34m)\u001b[0m\u001b[0;34m\u001b[0m\u001b[0;34m\u001b[0m\u001b[0m\n\u001b[0m\u001b[1;32m      2\u001b[0m \u001b[0;32mfor\u001b[0m \u001b[0mi\u001b[0m\u001b[0;34m,\u001b[0m \u001b[0mtext\u001b[0m \u001b[0;32min\u001b[0m \u001b[0menumerate\u001b[0m\u001b[0;34m(\u001b[0m\u001b[0mtrain_df\u001b[0m\u001b[0;34m.\u001b[0m\u001b[0mtext\u001b[0m\u001b[0;34m)\u001b[0m\u001b[0;34m:\u001b[0m\u001b[0;34m\u001b[0m\u001b[0;34m\u001b[0m\u001b[0m\n\u001b[1;32m      3\u001b[0m     \u001b[0;32mfor\u001b[0m \u001b[0me\u001b[0m \u001b[0;32min\u001b[0m \u001b[0mswe_encoder\u001b[0m\u001b[0;34m.\u001b[0m\u001b[0mencode\u001b[0m\u001b[0;34m(\u001b[0m\u001b[0mtext\u001b[0m\u001b[0;34m)\u001b[0m\u001b[0;34m:\u001b[0m\u001b[0;34m\u001b[0m\u001b[0;34m\u001b[0m\u001b[0m\n\u001b[1;32m      4\u001b[0m         \u001b[0mswe_train_x\u001b[0m\u001b[0;34m[\u001b[0m\u001b[0mi\u001b[0m\u001b[0;34m,\u001b[0m \u001b[0me\u001b[0m\u001b[0;34m]\u001b[0m \u001b[0;34m+=\u001b[0m \u001b[0;36m1\u001b[0m\u001b[0;34m\u001b[0m\u001b[0;34m\u001b[0m\u001b[0m\n\u001b[1;32m      5\u001b[0m \u001b[0;34m\u001b[0m\u001b[0m\n",
      "\u001b[0;31mNameError\u001b[0m: name 'encoder' is not defined"
     ]
    }
   ],
   "source": [
    "swe_train_x = np.zeros((len(train_df), encoder.vocab_size))\n",
    "for i, text in enumerate(train_df.text):\n",
    "    for e in swe_encoder.encode(text):\n",
    "        swe_train_x[i, e] += 1\n",
    "\n",
    "swe_test_x = np.zeros((len(test_df), encoder.vocab_size))\n",
    "for i, text in enumerate(test_df.text):\n",
    "    for e in swe_encoder.encode(text):\n",
    "        swe_test_x[i, e] += 1"
   ]
  },
  {
   "cell_type": "markdown",
   "metadata": {
    "colab_type": "text",
    "id": "blg0e1ZPKPEh"
   },
   "source": [
    "### Training"
   ]
  },
  {
   "cell_type": "code",
   "execution_count": null,
   "metadata": {
    "colab": {},
    "colab_type": "code",
    "id": "BrRK3A10fC_G"
   },
   "outputs": [],
   "source": [
    "swe_model = build_model(swe_encoder.vocab_size)\n",
    "\n",
    "swe_history = swe_model.fit(\n",
    "    x=swe_train_x, \n",
    "    y=train_df.sentiment,\n",
    "    epochs=10,\n",
    "    validation_data=(swe_test_x, test_df.sentiment)\n",
    "    )"
   ]
  },
  {
   "cell_type": "markdown",
   "metadata": {
    "colab_type": "text",
    "id": "ovSQnHqoKRpt"
   },
   "source": [
    "### Prediction"
   ]
  },
  {
   "cell_type": "code",
   "execution_count": null,
   "metadata": {
    "colab": {},
    "colab_type": "code",
    "id": "X-hNDGrVfCzx"
   },
   "outputs": [],
   "source": [
    "def swe_predict(text):\n",
    "    x = np.zeros((1, swe_encoder.vocab_size))\n",
    "    for e in swe_encoder.encode(text):\n",
    "        x[0, e] += 1\n",
    "    return swe_model.predict(x)[0][0]\n",
    "\n",
    "def swe_print(text):\n",
    "    print(f'{swe_predict(text):<.5f} | {text}')\n",
    "\n",
    "swe_print(t1)\n",
    "swe_print(t2)\n",
    "swe_print(t3)\n",
    "swe_print(t4)\n",
    "swe_print(t5)"
   ]
  },
  {
   "cell_type": "markdown",
   "metadata": {
    "colab_type": "text",
    "id": "4-y74w1fKVR_"
   },
   "source": [
    "## GloVe\n",
    "\n",
    "_Word Embeddings_ are now the new normal for NLP. Two of the first, widely used, and really successful embedding algorithms were [_GloVe_](https://nlp.stanford.edu/projects/glove/) and [_Word2Vec_](https://en.wikipedia.org/wiki/Word2vec). We will be using _GloVe_ here because it is so easy to use with [_spaCy_](https://spacy.io/)\n",
    "\n",
    "Word embeddings start to fix a couple major problem with one-hot and tfidf. \n",
    "\n",
    "- __Dimentionality Reduction__: The vectors we used earlier are quite large with a dimention of 20k. _GloVe_ vectors have a dimention of 300. \n",
    "- __Semantics__: _\"You shall know a word by the company it keeps\"_ (Firth). These vectors will group words which have a similar meaning together. So, a word like \"_bad_\" will be close to \"_terrible_\", similar to \"_good_\", but very dissimilar to \"_taco_\".\n",
    "\n",
    "We will be using [_spaCy_](https://spacy.io/) to load our vectors"
   ]
  },
  {
   "cell_type": "code",
   "execution_count": null,
   "metadata": {
    "colab": {},
    "colab_type": "code",
    "id": "-kICiJpB_4H9"
   },
   "outputs": [],
   "source": [
    "import en_core_web_md  # \n",
    "from spacy.tokens import Doc"
   ]
  },
  {
   "cell_type": "code",
   "execution_count": null,
   "metadata": {
    "colab": {},
    "colab_type": "code",
    "id": "GSvJ_jnU_7hl"
   },
   "outputs": [],
   "source": [
    "nlp = en_core_web_md.load(disable=['tagger', 'parser', 'ner'])"
   ]
  },
  {
   "cell_type": "code",
   "execution_count": null,
   "metadata": {
    "colab": {},
    "colab_type": "code",
    "id": "rKLzjv9XADAV"
   },
   "outputs": [],
   "source": [
    "glove_train_x = np.array([Doc(nlp.vocab, words=sent).vector.tolist() for sent in tqdm(train_df.tokenized, disable=True)])\n",
    "glove_test_x = np.array([Doc(nlp.vocab, words=sent).vector.tolist() for sent in tqdm(test_df.tokenized, disable=True)])"
   ]
  },
  {
   "cell_type": "markdown",
   "metadata": {
    "colab_type": "text",
    "id": "j39eL0VeMa9w"
   },
   "source": [
    "### Training"
   ]
  },
  {
   "cell_type": "code",
   "execution_count": null,
   "metadata": {
    "colab": {},
    "colab_type": "code",
    "id": "C-dRC1--Azrx"
   },
   "outputs": [],
   "source": [
    "glove_model = build_model(300)"
   ]
  },
  {
   "cell_type": "code",
   "execution_count": null,
   "metadata": {
    "colab": {},
    "colab_type": "code",
    "id": "FeOqV-oLAzkh"
   },
   "outputs": [],
   "source": [
    "glove_history = glove_model.fit(\n",
    "    x=glove_train_x, \n",
    "    y=train_df.sentiment,\n",
    "    epochs=10,\n",
    "    validation_data=(glove_test_x, test_df.sentiment)\n",
    "    )"
   ]
  },
  {
   "cell_type": "markdown",
   "metadata": {
    "colab_type": "text",
    "id": "mb8ltj-wMdgl"
   },
   "source": [
    "### Prediction"
   ]
  },
  {
   "cell_type": "code",
   "execution_count": null,
   "metadata": {
    "colab": {},
    "colab_type": "code",
    "id": "BKI-bX9ivIqO"
   },
   "outputs": [],
   "source": [
    "def glove_predict(text):\n",
    "  x = np.array([Doc(nlp.vocab, words=text.lower().split()).vector.tolist()])\n",
    "  return glove_model.predict(x)[0][0]\n",
    "\n",
    "def glove_print(text):\n",
    "  print(f'{swe_predict(text):<.5f} | {text}')\n",
    "\n",
    "swe_print(t1)\n",
    "swe_print(t2)\n",
    "swe_print(t3)\n",
    "swe_print(t4)\n",
    "swe_print(t5)"
   ]
  },
  {
   "cell_type": "markdown",
   "metadata": {
    "colab_type": "text",
    "id": "ulRI1c48MgYb"
   },
   "source": [
    "## Conclusion\n",
    "\n",
    "This was by no means a comprehensive comparison of NLP feature selection. But we can see that the features we use can make a large difference"
   ]
  },
  {
   "cell_type": "code",
   "execution_count": null,
   "metadata": {
    "colab": {},
    "colab_type": "code",
    "id": "8CFDDgfYv7ML"
   },
   "outputs": [],
   "source": [
    "print(f\"{'O-H':<5} | {'TFIDF':<5} | {'SWE':<5} | {'GloVe':<5} | {'Text'}\")\n",
    "print(f\"{oh_predict(t1):.3f} | {tfidf_predict(t1):.3f} | {swe_predict(t1):.3f} | {glove_predict(t1):.3f} | {t1}\")\n",
    "print(f\"{oh_predict(t2):.3f} | {tfidf_predict(t2):.3f} | {swe_predict(t2):.3f} | {glove_predict(t2):.3f} | {t2}\")\n",
    "print(f\"{oh_predict(t3):.3f} | {tfidf_predict(t3):.3f} | {swe_predict(t3):.3f} | {glove_predict(t3):.3f} | {t3}\")\n",
    "print(f\"{oh_predict(t4):.3f} | {tfidf_predict(t4):.3f} | {swe_predict(t4):.3f} | {glove_predict(t4):.3f} | {t4}\")\n",
    "print(f\"{oh_predict(t5):.3f} | {tfidf_predict(t5):.3f} | {swe_predict(t5):.3f} | {glove_predict(t5):.3f} | {t5}\")"
   ]
  },
  {
   "cell_type": "code",
   "execution_count": null,
   "metadata": {
    "colab": {},
    "colab_type": "code",
    "id": "oA-yZG87N48E"
   },
   "outputs": [],
   "source": [
    "import matplotlib.pyplot as plt\n",
    "# Plot training & validation accuracy values\n",
    "fig = plt.figure(figsize=(15, 4))\n",
    "plt.plot(glove_hist.history['val_acc'], color='red')\n",
    "plt.plot(swe_history.history['val_acc'], color='blue')\n",
    "plt.plot(tfidf_history.history['val_acc'], color='green')\n",
    "plt.plot(oh_history.history['val_acc'], color='orange')\n",
    "\n",
    "plt.plot(glove_hist.history['acc'], ls='--', color='red')\n",
    "plt.plot(swe_history.history['acc'], ls='--', color='blue')\n",
    "plt.plot(tfidf_history.history['acc'], ls='--', color='green')\n",
    "plt.plot(oh_history.history['acc'], ls='--', color='orange')\n",
    "\n",
    "plt.title('Model accuracy')\n",
    "plt.ylabel('Accuracy')\n",
    "plt.xlabel('Epoch')\n",
    "plt.legend(['GloVe Val', 'SWE Val', 'TFIDF Val', 'One-Hot Val', 'GloVe', 'SWE', 'TFIDF', 'One-Hot'], loc='best')\n",
    "plt.show()\n",
    "\n",
    "# Plot training & validation loss values\n",
    "fig = plt.figure(figsize=(15, 4))\n",
    "plt.plot(glove_history.history['val_loss'], color='red')\n",
    "plt.plot(swe_history.history['val_loss'], color='blue')\n",
    "plt.plot(tfidf_history.history['val_loss'], color='green')\n",
    "plt.plot(oh_history.history['val_loss'], color='orange')\n",
    "\n",
    "plt.plot(glove_hist.history['loss'], ls='--', color='red')\n",
    "plt.plot(swe_history.history['loss'], ls='--', color='blue')\n",
    "plt.plot(tfidf_history.history['loss'], ls='--', color='green')\n",
    "plt.plot(oh_history.history['loss'], ls='--', color='orange')\n",
    "\n",
    "plt.title('Model loss')\n",
    "plt.ylabel('Loss')\n",
    "plt.xlabel('Epoch')\n",
    "plt.legend(['GloVe Val', 'SWE Val', 'TFIDF Val', 'One-Hot Val', 'GloVe', 'SWE', 'TFIDF', 'One-Hot'], loc='best')\n",
    "plt.show()\n"
   ]
  },
  {
   "cell_type": "markdown",
   "metadata": {
    "colab_type": "text",
    "id": "Y6oXDX9bFRa8"
   },
   "source": [
    "## Going Further\n",
    "\n",
    "Now, if you know more about NLP, you probably know that this is really far from being comprehensive, or being state-of-the-art anymore. Word embeddings and language models have come a long way since _GloVe_ and _Word2Vec_.\n",
    "\n",
    "[__fastText__](https://fasttext.cc/)\n",
    "\n",
    "Facebook's open source system for word embeddings works in much the same way as _GloVe_, however, they are not static embeddings. They break down the words into Subword embeddings and thus work well with different spellings, misspellings, new words, different morphology, etc.\n",
    "\n",
    "[__BERT__](https://arxiv.org/abs/1810.04805)\n",
    "\n",
    "It's likely you have heard of _BERT_. _BERT_ has completely revolutionised NLP in the past couple years. Using an attention transformer network, BERT took a huge step towards solving the huge problem in NLP of _semantics_ and _context_. It creates dynamic embeddings of words based on their context, picking up differing senses.\n",
    "\n",
    "Reearchers were able to beat almost every state-of-the-art metric out there with BERT embeddings. But a huge problem is that the models are quite large, and quite expensive to train and are sometimes overkill.\n",
    "\n",
    "A smaller version of _BERT_ I quite like is [_RoBERTa_](https://pytorch.org/hub/pytorch_fairseq_roberta/)\n",
    "\n"
   ]
  }
 ],
 "metadata": {
  "colab": {
   "collapsed_sections": [],
   "machine_shape": "hm",
   "name": "nlp_feature_selection.ipynb",
   "provenance": []
  },
  "kernelspec": {
   "display_name": "Python 3",
   "language": "python",
   "name": "python3"
  },
  "language_info": {
   "codemirror_mode": {
    "name": "ipython",
    "version": 3
   },
   "file_extension": ".py",
   "mimetype": "text/x-python",
   "name": "python",
   "nbconvert_exporter": "python",
   "pygments_lexer": "ipython3",
   "version": "3.7.6"
  }
 },
 "nbformat": 4,
 "nbformat_minor": 4
}
