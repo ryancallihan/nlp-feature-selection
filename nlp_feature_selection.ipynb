{
 "cells": [
  {
   "cell_type": "markdown",
   "metadata": {
    "colab_type": "text",
    "id": "i1UoY29wvLmt"
   },
   "source": [
    "# How Word Embeddings Effect NLP Models\n",
    "\n",
    "This notebook will explore come different feature selection methods for NLP models. It will cover the following topics:\n",
    "\n",
    "- Tokenisation\n",
    "- Stopwords\n",
    "- Zipfian Distributions\n",
    "- Sentiment Analysis\n",
    "- Bag-of-words Vectorisation\n",
    "- tf\\*idf Vectorisation\n",
    "- Subword Encoding\n",
    "- Word Embeddings"
   ]
  },
  {
   "cell_type": "markdown",
   "metadata": {
    "colab_type": "text",
    "id": "oKa_Zw3VIEun"
   },
   "source": [
    "## About Me\n",
    "\n",
    "My name is Ryan Callihan. I am a native of San Diego, California but moved to the sunnier climes of Lancaster, UK.\n",
    "\n",
    "I am:\n",
    "\n",
    "- Senior Computational Linguist at [Relative Insight](https://relativeinsight.com/)\n",
    "- Organiser of [PyData Lancaster](https://twitter.com/PydataLancaster)\n",
    "- Co-founder of [Coin Market Mood](https://coinmarketmood.com/)\n",
    "- [collector of old post cards](https://postrecollection.wordpress.com/)\n",
    "\n",
    "You can find me on:\n",
    "- [Twitter](https://twitter.com/_ryancallihan)\n",
    "- [LinkedIn](https://www.linkedin.com/in/ryan-callihan/)\n",
    "- [Github](https://github.com/ryancallihan)\n",
    "- [Instagram](https://www.instagram.com/ryancallihan/)\n",
    "\n",
    "![Relative Insight](https://raw.githubusercontent.com/ryancallihan/nlp-feature-selection/master/images/RelativeLogo_RGB.png)"
   ]
  },
  {
   "cell_type": "code",
   "execution_count": null,
   "metadata": {
    "colab": {},
    "colab_type": "code",
    "id": "V9nA7DInWIeg"
   },
   "outputs": [],
   "source": [
    "%%capture\n",
    "!pip install unidecode\n",
    "\n",
    "import os\n",
    "from string import punctuation\n",
    "from collections import Counter\n",
    "\n",
    "import nltk\n",
    "import numpy as np\n",
    "import pandas as pd\n",
    "from tqdm import tqdm\n",
    "from string import punctuation\n",
    "from nltk import word_tokenize\n",
    "from unidecode import unidecode\n",
    "from nltk.corpus import stopwords\n",
    "\n",
    "# Models necessary for this workshop\n",
    "!python -m spacy download en_core_web_md\n",
    "nltk.download('punkt')\n",
    "nltk.download('stopwords')\n",
    "\n",
    "# Download data\n",
    "!wget https://raw.githubusercontent.com/ryancallihan/nlp-feature-selection/master/data/imdb-sentiment-train.csv\n",
    "!wget https://raw.githubusercontent.com/ryancallihan/nlp-feature-selection/master/data/imdb-sentiment-test.csv"
   ]
  },
  {
   "cell_type": "markdown",
   "metadata": {
    "colab_type": "text",
    "id": "WuhPr6r52azW"
   },
   "source": [
    "We will be removeing stopwords for some of these methods. [Stopwords](https://en.wikipedia.org/wiki/Stop_words) are words which, at a basic level, do not carry much \"_meaning_\". Words like: _the_, _and_, _or_, _is_, etc. I have included most punctuation in this as well."
   ]
  },
  {
   "cell_type": "code",
   "execution_count": null,
   "metadata": {
    "colab": {},
    "colab_type": "code",
    "id": "QCWdKeBJy3xX"
   },
   "outputs": [],
   "source": [
    "stopwords = stopwords.words('english') + list(punctuation)"
   ]
  },
  {
   "cell_type": "markdown",
   "metadata": {
    "colab_type": "text",
    "id": "ZBiFFf853Bhj"
   },
   "source": [
    "## Data \n",
    "\n",
    "The data we will be looking at is the classic [IMDB Sentiment Analysis](https://ai.stanford.edu/~amaas/data/sentiment/) dataset. It is a cleaned up sentiment analysis dataset, consisting of film reviews from IMDB. Each review is given a binary score of _Positive_ or _Negative_. It has already been divided into 25k train and 25k validation sets.\n",
    "\n",
    "We will only be taking 10K samples for the validation because of RAM and time contraints"
   ]
  },
  {
   "cell_type": "code",
   "execution_count": null,
   "metadata": {
    "colab": {},
    "colab_type": "code",
    "id": "_pcd5aaDLl9r"
   },
   "outputs": [],
   "source": [
    "train_df = pd.read_csv('imdb-sentiment-train.csv')\n",
    "test_df = pd.read_csv('imdb-sentiment-test.csv').sample(10000)"
   ]
  },
  {
   "cell_type": "markdown",
   "metadata": {
    "colab_type": "text",
    "id": "9LcEJ72eWNMM"
   },
   "source": [
    "### Preprocessing\n",
    "\n",
    "Convert to ASCII for ease during this presentation. Will convert characters like `Ü` to `U`. It just reduces the unique token types for this workshop."
   ]
  },
  {
   "cell_type": "code",
   "execution_count": null,
   "metadata": {
    "colab": {},
    "colab_type": "code",
    "id": "SEzPt8hqWNse"
   },
   "outputs": [],
   "source": [
    "train_df.text = [unidecode(t) for t in train_df.text]\n",
    "test_df.text = [unidecode(t) for t in test_df.text]"
   ]
  },
  {
   "cell_type": "markdown",
   "metadata": {
    "colab_type": "text",
    "id": "uZ2XbD1t4Pas"
   },
   "source": [
    "[Tokenization](https://en.wikipedia.org/wiki/Lexical_analysis#Tokenization) is breaking up the text into usable pieces.\n",
    "\n",
    "A sentence like `'I don't like celery.'` might be tokenized as `['I', 'do', 'n't', 'like', 'celery', '.']`\n",
    "\n",
    "Do a simple tokenize on the texts for ease using NLTK's [`word_tokenize`](https://www.nltk.org/api/nltk.tokenize.html)"
   ]
  },
  {
   "cell_type": "code",
   "execution_count": 5,
   "metadata": {
    "colab": {
     "base_uri": "https://localhost:8080/",
     "height": 52
    },
    "colab_type": "code",
    "id": "OwBZcYv7jGCP",
    "outputId": "e7076d71-73de-450d-d53f-ffc23ca4f62b"
   },
   "outputs": [
    {
     "name": "stderr",
     "output_type": "stream",
     "text": [
      "100%|██████████| 25000/25000 [00:54<00:00, 455.00it/s]\n",
      "100%|██████████| 10000/10000 [00:21<00:00, 467.13it/s]\n"
     ]
    }
   ],
   "source": [
    "train_df['tokenized'] = [[t for t in word_tokenize(r.lower()) if t not in stopwords] for r in tqdm(train_df.text)]\n",
    "test_df['tokenized'] = [[t for t in word_tokenize(r.lower()) if t not in stopwords] for r in tqdm(test_df.text)]"
   ]
  },
  {
   "cell_type": "code",
   "execution_count": 1,
   "metadata": {
    "colab": {
     "base_uri": "https://localhost:8080/",
     "height": 206
    },
    "colab_type": "code",
    "id": "wNS44cdnvIhr",
    "outputId": "0b626967-d986-4b4a-df00-a8442541188d"
   },
   "outputs": [],
   "source": [
    "# train_df.head()"
   ]
  },
  {
   "cell_type": "markdown",
   "metadata": {
    "colab_type": "text",
    "id": "1_YFIBERM0kc"
   },
   "source": [
    "## Some Minor Data Exporation\n",
    "\n",
    "It's always good to look at the data at least a little bit before working with it.\n",
    "\n",
    "### Class Split\n",
    "\n",
    "The classes are evenly split, so class imbalance won't be a problem.\n",
    "\n",
    "- `0` == _Negative_\n",
    "- `1` == _Positive_"
   ]
  },
  {
   "cell_type": "code",
   "execution_count": 7,
   "metadata": {
    "colab": {
     "base_uri": "https://localhost:8080/",
     "height": 331
    },
    "colab_type": "code",
    "id": "f7WQZSTQ1yf3",
    "outputId": "b509cc83-5efb-4665-f6b9-b2fa568ee0a7"
   },
   "outputs": [
    {
     "name": "stdout",
     "output_type": "stream",
     "text": [
      "1    12500\n",
      "0    12500\n",
      "Name: sentiment, dtype: int64\n"
     ]
    },
    {
     "data": {
      "text/plain": [
       "<matplotlib.axes._subplots.AxesSubplot at 0x7fc1152f9080>"
      ]
     },
     "execution_count": 7,
     "metadata": {
      "tags": []
     },
     "output_type": "execute_result"
    },
    {
     "data": {
      "image/png": "[encoded data removed]",
      "text/plain": [
       "<Figure size 432x288 with 1 Axes>"
      ]
     },
     "metadata": {
      "tags": []
     },
     "output_type": "display_data"
    }
   ],
   "source": [
    "print(train_df.sentiment.value_counts())\n",
    "train_df.sentiment.value_counts().plot.bar()"
   ]
  },
  {
   "cell_type": "markdown",
   "metadata": {
    "colab_type": "text",
    "id": "YCMLCXKN4cb5"
   },
   "source": [
    "### Review Length\n",
    "\n",
    "We can see that the majority of reviews are roughly under 500 tokens long. Because we will be doing sentiment using a _Feed Forward_ network, we will not really need to worry about sequence length. When dealing with _Recurrent_ models, _Attention_ models, etc., it would need to be taken into consideration."
   ]
  },
  {
   "cell_type": "code",
   "execution_count": 8,
   "metadata": {
    "colab": {
     "base_uri": "https://localhost:8080/",
     "height": 588
    },
    "colab_type": "code",
    "id": "3wBYMB90G3Nd",
    "outputId": "f1843373-513e-4969-8bf2-18d0c79acd63"
   },
   "outputs": [
    {
     "data": {
      "text/plain": [
       "array([[<matplotlib.axes._subplots.AxesSubplot object at 0x7fc115293128>]],\n",
       "      dtype=object)"
      ]
     },
     "execution_count": 8,
     "metadata": {
      "tags": []
     },
     "output_type": "execute_result"
    },
    {
     "data": {
      "image/png": "[encoded data removed]",
      "text/plain": [
       "<Figure size 1080x648 with 1 Axes>"
      ]
     },
     "metadata": {
      "tags": []
     },
     "output_type": "display_data"
    }
   ],
   "source": [
    "train_df['token_count'] = [len(t.split()) for t in train_df['text']]\n",
    "test_df['token_count'] = [len(t.split()) for t in test_df['text']]\n",
    "train_df.hist(column='token_count', bins=30, figsize=(15, 9))"
   ]
  },
  {
   "cell_type": "markdown",
   "metadata": {
    "colab_type": "text",
    "id": "9l3gSq9GXaXe"
   },
   "source": [
    "### Distribution of tokens\n",
    "\n",
    "Token counts in a dataset usually have a [Zipfian Distribution](https://en.wikipedia.org/wiki/Zipf%27s_law) where the frequency of a token is inversely proportional to its rank.\n",
    "\n",
    "The majority of _stopwords_ have a really high frequency whereas content words usually dont.\n",
    "\n",
    "This is important for a couple of the feature extraction methods. Having a very large vocabulary can make your feature matrices especially large. "
   ]
  },
  {
   "cell_type": "code",
   "execution_count": 9,
   "metadata": {
    "colab": {
     "base_uri": "https://localhost:8080/",
     "height": 600
    },
    "colab_type": "code",
    "id": "0Z3DmHyYX93F",
    "outputId": "61242ac3-1eeb-4adf-c0b2-fdefc093796e"
   },
   "outputs": [
    {
     "data": {
      "text/plain": [
       "<matplotlib.axes._subplots.AxesSubplot at 0x7fc114d57eb8>"
      ]
     },
     "execution_count": 9,
     "metadata": {
      "tags": []
     },
     "output_type": "execute_result"
    },
    {
     "data": {
      "image/png": "[encoded data removed]",
      "text/plain": [
       "<Figure size 1080x648 with 1 Axes>"
      ]
     },
     "metadata": {
      "tags": []
     },
     "output_type": "display_data"
    }
   ],
   "source": [
    "# Get token counts\n",
    "tokens, counts = zip(*sorted(Counter([t.lower() for s in train_df.text for t in s.split()]).items(), key=lambda x: x[1])[::-1])\n",
    "df = pd.DataFrame({\n",
    "    'tokens': tokens,\n",
    "    'counts': counts\n",
    "})\n",
    "df.sort_index(ascending=True).head(90).plot.bar(x='tokens', y='counts', figsize=(15, 9))"
   ]
  },
  {
   "cell_type": "markdown",
   "metadata": {
    "colab_type": "text",
    "id": "AGp-eD85g5HB"
   },
   "source": [
    "Our dataset certainly seems to follow a Zipfian distribution. For the sake of resources, we can limit our vocabulary by the frequency of tokens. We can remove stopwords and limit our vocab by frequency.\n",
    "\n",
    "Even after doing that, our dataset still fits the _Zipfian_ distribution."
   ]
  },
  {
   "cell_type": "code",
   "execution_count": 10,
   "metadata": {
    "colab": {
     "base_uri": "https://localhost:8080/",
     "height": 611
    },
    "colab_type": "code",
    "id": "dkRUhIO731yP",
    "outputId": "044769fa-89ed-4d50-c389-9606cb30deb5"
   },
   "outputs": [
    {
     "data": {
      "text/plain": [
       "<matplotlib.axes._subplots.AxesSubplot at 0x7fc114d03be0>"
      ]
     },
     "execution_count": 10,
     "metadata": {
      "tags": []
     },
     "output_type": "execute_result"
    },
    {
     "data": {
      "image/png": "[encoded data removed]",
      "text/plain": [
       "<Figure size 1080x648 with 1 Axes>"
      ]
     },
     "metadata": {
      "tags": []
     },
     "output_type": "display_data"
    }
   ],
   "source": [
    "# Get token counts\n",
    "tokens, counts = zip(*sorted(Counter([t for s in train_df.tokenized for t in s]).items(), key=lambda x: x[1])[::-1])\n",
    "df = pd.DataFrame({\n",
    "    'tokens': tokens,\n",
    "    'counts': counts\n",
    "})\n",
    "\n",
    "df.sort_index(ascending=True).head(90).plot.bar(x='tokens', y='counts', figsize=(15, 9))"
   ]
  },
  {
   "cell_type": "markdown",
   "metadata": {
    "colab_type": "text",
    "id": "hfsSpQSI9OsD"
   },
   "source": [
    "## Testing Model\n",
    "\n",
    "We will be testing our feature extraction on a _Feed Forward_ neural net. We will be using a [_Keras_](https://www.tensorflow.org/guide/keras) model for ease.\n",
    "\n",
    "We will use a model with the following hyperparams:\n",
    "\n",
    "- _Learning Rate_ == 0.0001\n",
    "- _Optimizer_ == _Adam_\n",
    "- _Layer Activations_ == _Sigmoid_\n",
    "- _Loss_ == _Binary Crossentropy_\n",
    "\n",
    "```\n",
    "_________________________________________________________________\n",
    "Layer (type)                 Output Shape              Param #   \n",
    "=================================================================\n",
    "dense (Dense)             (None, 128)               2560128   \n",
    "_________________________________________________________________\n",
    "dropout (Dropout)         (None, 128)               0         \n",
    "_________________________________________________________________\n",
    "dense_0 (Dense)             (None, 64)                8256      \n",
    "_________________________________________________________________\n",
    "dropout_0 (Dropout)         (None, 64)                0         \n",
    "_________________________________________________________________\n",
    "dense_1 (Dense)             (None, 64)                4160      \n",
    "_________________________________________________________________\n",
    "dropout_1 (Dropout)         (None, 64)                0         \n",
    "_________________________________________________________________\n",
    "dense_2 (Dense)             (None, 64)                4160      \n",
    "_________________________________________________________________\n",
    "dropout_2 (Dropout)         (None, 64)                0         \n",
    "_________________________________________________________________\n",
    "dense_3 (Dense)             (None, 1)                 65        \n",
    "=================================================================\n",
    "Total params: 2,576,769\n",
    "Trainable params: 2,576,769\n",
    "Non-trainable params: 0\n",
    "_________________________________________________________________\n",
    "```"
   ]
  },
  {
   "cell_type": "code",
   "execution_count": null,
   "metadata": {
    "colab": {},
    "colab_type": "code",
    "id": "pNR9LUC29RQA"
   },
   "outputs": [],
   "source": [
    "%tensorflow_version 1.x\n",
    "import tensorflow as tf\n",
    "from tensorflow.keras.models import Sequential\n",
    "from tensorflow.keras.layers import Dense, Dropout\n",
    "from tensorflow.keras.optimizers import Adam"
   ]
  },
  {
   "cell_type": "code",
   "execution_count": null,
   "metadata": {
    "colab": {},
    "colab_type": "code",
    "id": "Nq1WtadX9UWA"
   },
   "outputs": [],
   "source": [
    "def build_model(vector_length):\n",
    "    np.random.seed(42)\n",
    "    model = Sequential()\n",
    "    model.add(Dense(128, activation='sigmoid', input_shape=(vector_length, )))\n",
    "    model.add(Dropout(0.3))\n",
    "    for _ in range(3):\n",
    "        model.add(Dense(64, activation='sigmoid'))\n",
    "        model.add(Dropout(0.3))\n",
    "    model.add(Dense(1, activation='sigmoid'))\n",
    "    adam = Adam(learning_rate=0.0001)\n",
    "    model.compile(optimizer=adam, loss='binary_crossentropy', metrics=['accuracy'])\n",
    "    # print(model.summary())\n",
    "    return model"
   ]
  },
  {
   "cell_type": "markdown",
   "metadata": {
    "colab_type": "text",
    "id": "TD1DQriEhOwB"
   },
   "source": [
    "## Bag-of-Words Encoding\n",
    "\n",
    "Bag-of-Words (BOW) encoding creates vectors for words in which the length of the vector is the size of the vocabulary, and each token has an index. These vectors are very sparse. Most of the elements are 0."
   ]
  },
  {
   "cell_type": "code",
   "execution_count": 13,
   "metadata": {
    "colab": {
     "base_uri": "https://localhost:8080/",
     "height": 225
    },
    "colab_type": "code",
    "id": "tqHasfzYx_CG",
    "outputId": "63d67871-632b-427a-e5de-33b2a32bef97"
   },
   "outputs": [
    {
     "data": {
      "text/plain": [
       "{'!': 7,\n",
       " '.': 10,\n",
       " 'I': 1,\n",
       " 'They': 6,\n",
       " 'We': 8,\n",
       " 'but': 5,\n",
       " 'cheese': 9,\n",
       " 'do': 0,\n",
       " 'like': 2,\n",
       " 'mild': 3,\n",
       " 'not': 11,\n",
       " 'stinky': 4}"
      ]
     },
     "execution_count": 13,
     "metadata": {
      "tags": []
     },
     "output_type": "execute_result"
    }
   ],
   "source": [
    "corpus = [\n",
    "  ['I', 'like', 'cheese', '.'],\n",
    "  ['We', 'like', 'stinky', 'cheese', '.'],\n",
    "  ['They', 'do', 'not', 'like', 'stinky', 'cheese', '!'],\n",
    "  ['I', 'like', 'stinky', 'cheese', 'but', 'not', 'mild', 'cheese', '.']\n",
    "]\n",
    "vocab = set(t for s in corpus for t in s)\n",
    "indexer = {t: i for i, t in enumerate(vocab)}\n",
    "vocab_len = len(vocab)\n",
    "indexer"
   ]
  },
  {
   "cell_type": "markdown",
   "metadata": {
    "colab_type": "text",
    "id": "cYu3P3KX7JTB"
   },
   "source": [
    "We can turn our sentences into vectors"
   ]
  },
  {
   "cell_type": "code",
   "execution_count": 14,
   "metadata": {
    "colab": {
     "base_uri": "https://localhost:8080/",
     "height": 34
    },
    "colab_type": "code",
    "id": "-j80H2GE2V6g",
    "outputId": "988c305b-d8fc-4e7a-848f-560de1f45f64"
   },
   "outputs": [
    {
     "data": {
      "text/plain": [
       "array([0., 1., 1., 0., 0., 0., 0., 0., 0., 1., 1., 0.])"
      ]
     },
     "execution_count": 14,
     "metadata": {
      "tags": []
     },
     "output_type": "execute_result"
    }
   ],
   "source": [
    "sent_i = 0\n",
    "vec = np.zeros(vocab_len)\n",
    "for t in corpus[sent_i]:\n",
    "    vec[indexer[t]] += 1\n",
    "vec"
   ]
  },
  {
   "cell_type": "markdown",
   "metadata": {
    "colab_type": "text",
    "id": "u-38zl277NvH"
   },
   "source": [
    "And then reversed. However, we can't preserve order."
   ]
  },
  {
   "cell_type": "code",
   "execution_count": 15,
   "metadata": {
    "colab": {
     "base_uri": "https://localhost:8080/",
     "height": 86
    },
    "colab_type": "code",
    "id": "AqP8l9Sm43VQ",
    "outputId": "71c3dcb6-d5f2-4364-ae24-8c9c089668b2"
   },
   "outputs": [
    {
     "name": "stdout",
     "output_type": "stream",
     "text": [
      "Token: I       | Count: 1\n",
      "Token: like    | Count: 1\n",
      "Token: cheese  | Count: 1\n",
      "Token: .       | Count: 1\n"
     ]
    }
   ],
   "source": [
    "indexer_inverse = {v: k for k, v in indexer.items()}\n",
    "for i, v in enumerate(vec):\n",
    "    if v:\n",
    "        print(f'Token: {indexer_inverse[i]:<7} | Count: {int(v)}')"
   ]
  },
  {
   "cell_type": "markdown",
   "metadata": {
    "colab_type": "text",
    "id": "HxqUPpv575b0"
   },
   "source": [
    "[_Scikit-Learn_](https://scikit-learn.org/) is a good implementation of of this.\n",
    "\n",
    "We will limit the total vocabulary to 20k. It will prioritize tokens with a higher frequency.\n",
    "\n",
    "#### [`CountVectorizer`](https://scikit-learn.org/stable/modules/generated/sklearn.feature_extraction.text.CountVectorizer.html)"
   ]
  },
  {
   "cell_type": "code",
   "execution_count": 29,
   "metadata": {
    "colab": {
     "base_uri": "https://localhost:8080/",
     "height": 89
    },
    "colab_type": "code",
    "id": "lMTKbP-i27VX",
    "outputId": "849d0f51-b9dc-4117-9f22-6474f4a98d76"
   },
   "outputs": [
    {
     "name": "stderr",
     "output_type": "stream",
     "text": [
      "/usr/local/lib/python3.6/dist-packages/sklearn/feature_extraction/text.py:507: UserWarning: The parameter 'token_pattern' will not be used since 'tokenizer' is not None'\n",
      "  warnings.warn(\"The parameter 'token_pattern' will not be used\"\n"
     ]
    },
    {
     "name": "stdout",
     "output_type": "stream",
     "text": [
      "Feature Dimentions: (25000, 20000)\n"
     ]
    }
   ],
   "source": [
    "from sklearn.feature_extraction.text import CountVectorizer\n",
    "\n",
    "def dummy_func(doc):\n",
    "  \"\"\"Must pass a dummy function to avoid sklearn automatically tokenizing.\"\"\"\n",
    "  return doc\n",
    "\n",
    "one_hot = CountVectorizer(preprocessor=dummy_func, tokenizer=dummy_func, min_df=5, max_features=20000)\n",
    "one_hot.fit(train_df.tokenized)\n",
    "print(f'Feature Dimensions: {(len(train_df), len(one_hot.vocabulary_))}')"
   ]
  },
  {
   "cell_type": "markdown",
   "metadata": {
    "colab_type": "text",
    "id": "E2EDkkvLCHxg"
   },
   "source": [
    "It's pretty easy to use"
   ]
  },
  {
   "cell_type": "code",
   "execution_count": 17,
   "metadata": {
    "colab": {
     "base_uri": "https://localhost:8080/",
     "height": 69
    },
    "colab_type": "code",
    "id": "aGnaDVCL3Iit",
    "outputId": "b009d741-1fe5-41b6-9d3f-df18f86bb73f"
   },
   "outputs": [
    {
     "name": "stdout",
     "output_type": "stream",
     "text": [
      "Text: Steven Spielberg (at 24) had already directed two \n",
      "Feature Dimentions: (1, 20000)\n"
     ]
    },
    {
     "data": {
      "text/plain": [
       "array([[14,  0,  0, ...,  0,  0,  0]])"
      ]
     },
     "execution_count": 17,
     "metadata": {
      "tags": []
     },
     "output_type": "execute_result"
    }
   ],
   "source": [
    "print(f'Text: {train_df.text.values[0][:50]}')\n",
    "vec = one_hot.transform([train_df.tokenized.values[0]]).toarray()\n",
    "print(f'Feature Dimensions: {vec.shape}')\n",
    "vec"
   ]
  },
  {
   "cell_type": "markdown",
   "metadata": {
    "colab_type": "text",
    "id": "O7uBQSteGJGP"
   },
   "source": [
    "### Training"
   ]
  },
  {
   "cell_type": "code",
   "execution_count": 18,
   "metadata": {
    "colab": {
     "base_uri": "https://localhost:8080/",
     "height": 506
    },
    "colab_type": "code",
    "id": "x0z2bh7W9nQG",
    "outputId": "097dee84-401a-4074-ed7a-b2b301b87f1f"
   },
   "outputs": [
    {
     "name": "stdout",
     "output_type": "stream",
     "text": [
      "WARNING:tensorflow:From /usr/local/lib/python3.6/dist-packages/tensorflow_core/python/ops/resource_variable_ops.py:1630: calling BaseResourceVariable.__init__ (from tensorflow.python.ops.resource_variable_ops) with constraint is deprecated and will be removed in a future version.\n",
      "Instructions for updating:\n",
      "If using Keras pass *_constraint arguments to layers.\n",
      "WARNING:tensorflow:From /usr/local/lib/python3.6/dist-packages/tensorflow_core/python/ops/nn_impl.py:183: where (from tensorflow.python.ops.array_ops) is deprecated and will be removed in a future version.\n",
      "Instructions for updating:\n",
      "Use tf.where in 2.0, which has the same broadcast rule as np.where\n",
      "Train on 25000 samples, validate on 10000 samples\n",
      "Epoch 1/10\n",
      "25000/25000 [==============================] - 11s 450us/sample - loss: 0.7267 - acc: 0.5044 - val_loss: 0.6814 - val_acc: 0.7477\n",
      "Epoch 2/10\n",
      "25000/25000 [==============================] - 11s 429us/sample - loss: 0.6394 - acc: 0.6238 - val_loss: 0.4614 - val_acc: 0.8583\n",
      "Epoch 3/10\n",
      "25000/25000 [==============================] - 11s 429us/sample - loss: 0.3693 - acc: 0.8570 - val_loss: 0.2994 - val_acc: 0.8801\n",
      "Epoch 4/10\n",
      "25000/25000 [==============================] - 11s 431us/sample - loss: 0.2771 - acc: 0.8944 - val_loss: 0.2812 - val_acc: 0.8856\n",
      "Epoch 5/10\n",
      "25000/25000 [==============================] - 11s 430us/sample - loss: 0.2362 - acc: 0.9121 - val_loss: 0.2787 - val_acc: 0.8886\n",
      "Epoch 6/10\n",
      "25000/25000 [==============================] - 11s 430us/sample - loss: 0.2130 - acc: 0.9225 - val_loss: 0.2794 - val_acc: 0.8904\n",
      "Epoch 7/10\n",
      "25000/25000 [==============================] - 11s 429us/sample - loss: 0.1942 - acc: 0.9309 - val_loss: 0.2826 - val_acc: 0.8897\n",
      "Epoch 8/10\n",
      "25000/25000 [==============================] - 11s 426us/sample - loss: 0.1779 - acc: 0.9376 - val_loss: 0.2919 - val_acc: 0.8887\n",
      "Epoch 9/10\n",
      "25000/25000 [==============================] - 11s 426us/sample - loss: 0.1661 - acc: 0.9411 - val_loss: 0.2978 - val_acc: 0.8881\n",
      "Epoch 10/10\n",
      "25000/25000 [==============================] - 11s 430us/sample - loss: 0.1532 - acc: 0.9473 - val_loss: 0.3080 - val_acc: 0.8864\n"
     ]
    }
   ],
   "source": [
    "oh_model = build_model(len(one_hot.vocabulary_))\n",
    "oh_history = oh_model.fit(\n",
    "    x=one_hot.transform(train_df.tokenized), \n",
    "    y=train_df.sentiment,\n",
    "    epochs=10,\n",
    "    validation_data=(one_hot.transform(test_df.tokenized), test_df.sentiment)\n",
    "    )"
   ]
  },
  {
   "cell_type": "markdown",
   "metadata": {
    "colab_type": "text",
    "id": "sEY9wUL_GOhZ"
   },
   "source": [
    "### Prediction"
   ]
  },
  {
   "cell_type": "code",
   "execution_count": 19,
   "metadata": {
    "colab": {
     "base_uri": "https://localhost:8080/",
     "height": 104
    },
    "colab_type": "code",
    "id": "6e8wEt2nqVkc",
    "outputId": "7597487f-ed36-4262-b5e4-6eae921ed1c5"
   },
   "outputs": [
    {
     "name": "stdout",
     "output_type": "stream",
     "text": [
      "0.17458 | Tacos in England is absolutely terrible .\n",
      "0.57092 | Tacos in England absolutely terible .\n",
      "0.18041 | Tacos in Prague are not so bad .\n",
      "0.64227 | Mexican food in SD is the best .\n",
      "0.43182 | I'm a big fan of tacos .\n"
     ]
    }
   ],
   "source": [
    "def oh_predict(text):\n",
    "  return oh_model.predict(one_hot.transform([text.lower().split()]))[0][0]\n",
    "\n",
    "def oh_print(text):\n",
    "  print(f'{oh_predict(text):<.5f} | {text}')\n",
    "\n",
    "t1 = '''Tacos in England is absolutely terrible .'''\n",
    "t2 = '''Tacos in England absolutely terible .'''\n",
    "t3 = '''Tacos in Prague are not so bad .'''\n",
    "t4 = '''Mexican food in SD is the best .'''\n",
    "t5 = '''I'm a big fan of tacos .'''\n",
    "\n",
    "oh_print(t1)\n",
    "oh_print(t2)\n",
    "oh_print(t3)\n",
    "oh_print(t4)\n",
    "oh_print(t5)"
   ]
  },
  {
   "cell_type": "markdown",
   "metadata": {
    "colab_type": "text",
    "id": "hOLfC1YgGYU3"
   },
   "source": [
    "## TF*IDF\n",
    "\n",
    "[_tf*idf_](https://en.wikipedia.org/wiki/Tf%E2%80%93idf) is a widely used technique in NLP for feature and keyword extraction. \n",
    "\n",
    "By combining the frequency (how many times a term appears in a document) by the inverse document frequency (how many documents a term appears in), we are able to filter out common words and promote unique content words.\n",
    "\n",
    "[_Scikit-Learn_](https://scikit-learn.org/) also has a very good implementation of it.\n",
    "\n",
    "#### [`TFIDFVectorizer`](https://scikit-learn.org/stable/modules/generated/sklearn.feature_extraction.text.TfidfVectorizer.html)"
   ]
  },
  {
   "cell_type": "code",
   "execution_count": 30,
   "metadata": {
    "colab": {
     "base_uri": "https://localhost:8080/",
     "height": 89
    },
    "colab_type": "code",
    "id": "ExUbVNg0BeyW",
    "outputId": "9bc310e6-ae7b-4f3d-c772-8d4302cce9c9"
   },
   "outputs": [
    {
     "name": "stderr",
     "output_type": "stream",
     "text": [
      "/usr/local/lib/python3.6/dist-packages/sklearn/feature_extraction/text.py:507: UserWarning: The parameter 'token_pattern' will not be used since 'tokenizer' is not None'\n",
      "  warnings.warn(\"The parameter 'token_pattern' will not be used\"\n"
     ]
    },
    {
     "name": "stdout",
     "output_type": "stream",
     "text": [
      "Feature Dimensions: (25000, 20000)\n"
     ]
    }
   ],
   "source": [
    "from sklearn.feature_extraction.text import TfidfVectorizer\n",
    "\n",
    "tfidf = TfidfVectorizer(preprocessor=dummy_func, tokenizer=dummy_func, min_df=5, max_features=20000)\n",
    "tfidf.fit(train_df.tokenized)\n",
    "print(f'Feature Dimensions: {(len(train_df), len(tfidf.vocabulary_))}')"
   ]
  },
  {
   "cell_type": "markdown",
   "metadata": {
    "colab_type": "text",
    "id": "Pb_z2NclHVpB"
   },
   "source": [
    "### Training"
   ]
  },
  {
   "cell_type": "code",
   "execution_count": 21,
   "metadata": {
    "colab": {
     "base_uri": "https://localhost:8080/",
     "height": 382
    },
    "colab_type": "code",
    "id": "502vH5LNIkm5",
    "outputId": "6ffc4e77-c202-4fea-9dac-81a80143f85d"
   },
   "outputs": [
    {
     "name": "stdout",
     "output_type": "stream",
     "text": [
      "Train on 25000 samples, validate on 10000 samples\n",
      "Epoch 1/10\n",
      "25000/25000 [==============================] - 11s 457us/sample - loss: 0.7309 - acc: 0.4942 - val_loss: 0.6929 - val_acc: 0.5009\n",
      "Epoch 2/10\n",
      "25000/25000 [==============================] - 11s 433us/sample - loss: 0.7133 - acc: 0.5060 - val_loss: 0.6927 - val_acc: 0.5009\n",
      "Epoch 3/10\n",
      "25000/25000 [==============================] - 11s 433us/sample - loss: 0.7085 - acc: 0.5038 - val_loss: 0.6929 - val_acc: 0.4991\n",
      "Epoch 4/10\n",
      "25000/25000 [==============================] - 11s 430us/sample - loss: 0.7073 - acc: 0.5016 - val_loss: 0.6921 - val_acc: 0.6794\n",
      "Epoch 5/10\n",
      "25000/25000 [==============================] - 14s 569us/sample - loss: 0.7016 - acc: 0.5012 - val_loss: 0.6913 - val_acc: 0.7649\n",
      "Epoch 6/10\n",
      "25000/25000 [==============================] - 15s 584us/sample - loss: 0.6978 - acc: 0.5131 - val_loss: 0.6896 - val_acc: 0.4991\n",
      "Epoch 7/10\n",
      "25000/25000 [==============================] - 15s 585us/sample - loss: 0.6915 - acc: 0.5291 - val_loss: 0.6766 - val_acc: 0.8182\n",
      "Epoch 8/10\n",
      "25000/25000 [==============================] - 15s 581us/sample - loss: 0.6595 - acc: 0.6121 - val_loss: 0.5972 - val_acc: 0.8449\n",
      "Epoch 9/10\n",
      "25000/25000 [==============================] - 14s 576us/sample - loss: 0.5480 - acc: 0.7406 - val_loss: 0.4304 - val_acc: 0.8523\n",
      "Epoch 10/10\n",
      "25000/25000 [==============================] - 14s 577us/sample - loss: 0.4613 - acc: 0.7911 - val_loss: 0.3652 - val_acc: 0.8591\n"
     ]
    }
   ],
   "source": [
    "tfidf_model = build_model(len(tfidf.vocabulary_))\n",
    "tfidf_history = tfidf_model.fit(\n",
    "    x=tfidf.transform(train_df.tokenized), \n",
    "    y=train_df.sentiment,\n",
    "    epochs=10,\n",
    "    validation_data=(tfidf.transform(test_df.tokenized), test_df.sentiment)\n",
    "    )"
   ]
  },
  {
   "cell_type": "markdown",
   "metadata": {
    "colab_type": "text",
    "id": "iZmDY8r_HYeR"
   },
   "source": [
    "### Prediction"
   ]
  },
  {
   "cell_type": "code",
   "execution_count": 22,
   "metadata": {
    "colab": {
     "base_uri": "https://localhost:8080/",
     "height": 104
    },
    "colab_type": "code",
    "id": "cu2ClV0Ts4yj",
    "outputId": "0eef51c9-f0d3-476d-a710-151e6055770a"
   },
   "outputs": [
    {
     "name": "stdout",
     "output_type": "stream",
     "text": [
      "0.27939 | Tacos in England is absolutely terrible .\n",
      "0.71295 | Tacos in England absolutely terible .\n",
      "0.34786 | Tacos in Prague are not so bad .\n",
      "0.79958 | Mexican food in SD is the best .\n",
      "0.72528 | I'm a big fan of tacos .\n"
     ]
    }
   ],
   "source": [
    "def tfidf_predict(text):\n",
    "  return tfidf_model.predict(tfidf.transform([text.lower().split()]))[0][0]\n",
    "\n",
    "def tfidf_print(text):\n",
    "  print(f'{tfidf_predict(text):<.5f} | {text}')\n",
    "\n",
    "tfidf_print(t1)\n",
    "tfidf_print(t2)\n",
    "tfidf_print(t3)\n",
    "tfidf_print(t4)\n",
    "tfidf_print(t5)"
   ]
  },
  {
   "cell_type": "markdown",
   "metadata": {
    "colab_type": "text",
    "id": "9IGIG_lNHbkf"
   },
   "source": [
    "## Subword Encoding\n",
    "\n",
    "Also known as [_Byte Pair Encoding_](https://en.wikipedia.org/wiki/Byte_pair_encoding). This feature extraction has become very popular in the past couple years. Because writing is frequently non-standard, BOW encoding is often not ideal. Because BOW and tfidf encoding require a static vocabulary, it cannot handle new words, misspelled words, etc. If the vocabulary was built to include _terrible_ but not _terrible_, it could have a negative effect on the model.\n",
    "\n",
    "_Byte Pair Encoding_ starts by looking at the training dataset on a character level. It find the most frequent pairs of characters, registers that as a subword, and then will treat each occurence of that sequence as one unit. \n",
    "\n",
    "- `H e r e  i s  a  n i c e  s e n t e n c e .`\n",
    "- `H e r e  i s  a  n i c e  s en t en c e .`\n",
    "- `H e r e  i s  a  n i ce  s en t en ce .`\n",
    "- ...\n",
    "\n",
    "This is able to capture things like word stems and morphology.\n",
    "\n",
    "Tensorflow as a good and efficient implementation of this.\n",
    "\n",
    "#### [`SubwordTextEncoder`](https://www.tensorflow.org/datasets/api_docs/python/tfds/features/text/SubwordTextEncoder)"
   ]
  },
  {
   "cell_type": "code",
   "execution_count": 28,
   "metadata": {
    "colab": {
     "base_uri": "https://localhost:8080/",
     "height": 34
    },
    "colab_type": "code",
    "id": "07B9ZY9NbLGX",
    "outputId": "323363c9-df68-4551-9e08-b86b2630d7eb"
   },
   "outputs": [
    {
     "name": "stdout",
     "output_type": "stream",
     "text": [
      "Feature Dimentions: (25000, 20068)\n"
     ]
    }
   ],
   "source": [
    "import tensorflow_datasets as tfds\n",
    "\n",
    "swe_encoder = tfds.features.text.SubwordTextEncoder.build_from_corpus(\n",
    "    train_df.text, target_vocab_size=20000)\n",
    "print(f'Feature Dimensions: {(len(train_df), swe_encoder.vocab_size)}')"
   ]
  },
  {
   "cell_type": "markdown",
   "metadata": {
    "colab_type": "text",
    "id": "gXJEA4y3JeFm"
   },
   "source": [
    "We can see how it splits up text here."
   ]
  },
  {
   "cell_type": "code",
   "execution_count": 31,
   "metadata": {
    "colab": {
     "base_uri": "https://localhost:8080/",
     "height": 156
    },
    "colab_type": "code",
    "id": "601B5mukbK-H",
    "outputId": "6941a037-1999-4cda-e867-09a6fcae89af"
   },
   "outputs": [
    {
     "name": "stdout",
     "output_type": "stream",
     "text": [
      "Encoded: [1668, 8, 4, 1945, 9051, 19858] \n",
      " ----------\n",
      "Decoded: Here \n",
      "Decoded: is \n",
      "Decoded: a \n",
      "Decoded: standard \n",
      "Decoded: sentence\n",
      "Decoded: .\n"
     ]
    }
   ],
   "source": [
    "text = 'Here is a standard sentence.'  # Standard Words\n",
    "# text = 'This sentence is more standarder!'  # Non-standard word\n",
    "enc = swe_encoder.encode(text)\n",
    "print(f'Encoded: {enc}', '\\n', '-'*10)\n",
    "for e in enc:\n",
    "    print(f'Decoded: {swe_encoder.decode([e])}')"
   ]
  },
  {
   "cell_type": "markdown",
   "metadata": {
    "colab_type": "text",
    "id": "Wks6R_69KC-L"
   },
   "source": [
    "However, we still need to convert our Subword encodings into vectors. They will function just like the one-hot vectors"
   ]
  },
  {
   "cell_type": "code",
   "execution_count": null,
   "metadata": {
    "colab": {},
    "colab_type": "code",
    "id": "d-qgphVZfDQn"
   },
   "outputs": [],
   "source": [
    "swe_train_x = np.zeros((len(train_df), swe_encoder.vocab_size))\n",
    "for i, text in enumerate(train_df.text):\n",
    "    for e in swe_encoder.encode(text):\n",
    "        swe_train_x[i, e] += 1\n",
    "\n",
    "swe_test_x = np.zeros((len(test_df), swe_encoder.vocab_size))\n",
    "for i, text in enumerate(test_df.text):\n",
    "    for e in swe_encoder.encode(text):\n",
    "        swe_test_x[i, e] += 1"
   ]
  },
  {
   "cell_type": "markdown",
   "metadata": {
    "colab_type": "text",
    "id": "blg0e1ZPKPEh"
   },
   "source": [
    "### Training"
   ]
  },
  {
   "cell_type": "code",
   "execution_count": 33,
   "metadata": {
    "colab": {
     "base_uri": "https://localhost:8080/",
     "height": 382
    },
    "colab_type": "code",
    "id": "BrRK3A10fC_G",
    "outputId": "7fb52e38-262a-4170-b15f-5a398b1a0d14"
   },
   "outputs": [
    {
     "name": "stdout",
     "output_type": "stream",
     "text": [
      "Train on 25000 samples, validate on 10000 samples\n",
      "Epoch 1/10\n",
      "25000/25000 [==============================] - 11s 444us/sample - loss: 0.7141 - acc: 0.5023 - val_loss: 0.6777 - val_acc: 0.7631\n",
      "Epoch 2/10\n",
      "25000/25000 [==============================] - 11s 436us/sample - loss: 0.6086 - acc: 0.6704 - val_loss: 0.4312 - val_acc: 0.8562\n",
      "Epoch 3/10\n",
      "25000/25000 [==============================] - 11s 434us/sample - loss: 0.3430 - acc: 0.8742 - val_loss: 0.3035 - val_acc: 0.8817\n",
      "Epoch 4/10\n",
      "25000/25000 [==============================] - 11s 435us/sample - loss: 0.2469 - acc: 0.9112 - val_loss: 0.2887 - val_acc: 0.8876\n",
      "Epoch 5/10\n",
      "25000/25000 [==============================] - 11s 433us/sample - loss: 0.2059 - acc: 0.9270 - val_loss: 0.2901 - val_acc: 0.8882\n",
      "Epoch 6/10\n",
      "25000/25000 [==============================] - 11s 434us/sample - loss: 0.1728 - acc: 0.9416 - val_loss: 0.2976 - val_acc: 0.8886\n",
      "Epoch 7/10\n",
      "25000/25000 [==============================] - 11s 431us/sample - loss: 0.1508 - acc: 0.9498 - val_loss: 0.3073 - val_acc: 0.8871\n",
      "Epoch 8/10\n",
      "25000/25000 [==============================] - 11s 435us/sample - loss: 0.1335 - acc: 0.9562 - val_loss: 0.3250 - val_acc: 0.8847\n",
      "Epoch 9/10\n",
      "25000/25000 [==============================] - 11s 434us/sample - loss: 0.1186 - acc: 0.9627 - val_loss: 0.3394 - val_acc: 0.8846\n",
      "Epoch 10/10\n",
      "25000/25000 [==============================] - 11s 433us/sample - loss: 0.1075 - acc: 0.9652 - val_loss: 0.3498 - val_acc: 0.8844\n"
     ]
    }
   ],
   "source": [
    "swe_model = build_model(swe_encoder.vocab_size)\n",
    "\n",
    "swe_history = swe_model.fit(\n",
    "    x=swe_train_x, \n",
    "    y=train_df.sentiment,\n",
    "    epochs=10,\n",
    "    validation_data=(swe_test_x, test_df.sentiment)\n",
    "    )"
   ]
  },
  {
   "cell_type": "markdown",
   "metadata": {
    "colab_type": "text",
    "id": "ovSQnHqoKRpt"
   },
   "source": [
    "### Prediction"
   ]
  },
  {
   "cell_type": "code",
   "execution_count": 34,
   "metadata": {
    "colab": {
     "base_uri": "https://localhost:8080/",
     "height": 104
    },
    "colab_type": "code",
    "id": "X-hNDGrVfCzx",
    "outputId": "dc0755d1-4ecd-4198-ba15-92f609f55228"
   },
   "outputs": [
    {
     "name": "stdout",
     "output_type": "stream",
     "text": [
      "0.09552 | Tacos in England is absolutely terrible .\n",
      "0.65735 | Tacos in England absolutely terible .\n",
      "0.07198 | Tacos in Prague are not so bad .\n",
      "0.61209 | Mexican food in SD is the best .\n",
      "0.55832 | I'm a big fan of tacos .\n"
     ]
    }
   ],
   "source": [
    "def swe_predict(text):\n",
    "    x = np.zeros((1, swe_encoder.vocab_size))\n",
    "    for e in swe_encoder.encode(text):\n",
    "        x[0, e] += 1\n",
    "    return swe_model.predict(x)[0][0]\n",
    "\n",
    "def swe_print(text):\n",
    "    print(f'{swe_predict(text):<.5f} | {text}')\n",
    "\n",
    "swe_print(t1)\n",
    "swe_print(t2)\n",
    "swe_print(t3)\n",
    "swe_print(t4)\n",
    "swe_print(t5)"
   ]
  },
  {
   "cell_type": "markdown",
   "metadata": {
    "colab_type": "text",
    "id": "4-y74w1fKVR_"
   },
   "source": [
    "## GloVe\n",
    "\n",
    "_Word Embeddings_ are now the new normal for NLP. Two of the first, widely used, and really successful embedding algorithms were [_GloVe_](https://nlp.stanford.edu/projects/glove/) and [_Word2Vec_](https://en.wikipedia.org/wiki/Word2vec). We will be using _GloVe_ here because it is so easy to use with [_spaCy_](https://spacy.io/)\n",
    "\n",
    "Word embeddings start to fix a couple major problem with one-hot and tfidf. \n",
    "\n",
    "- __Dimentionality Reduction__: The vectors we used earlier are quite large with a dimention of 20k. _GloVe_ vectors have a dimention of 300. \n",
    "- __Semantics__: _\"You shall know a word by the company it keeps\"_ (Firth). These vectors will group words which have a similar meaning together. So, a word like \"_bad_\" will be close to \"_terrible_\", similar to \"_good_\", but very dissimilar to \"_taco_\".\n",
    "\n",
    "We will be using [_spaCy_](https://spacy.io/) to load our vectors"
   ]
  },
  {
   "cell_type": "code",
   "execution_count": null,
   "metadata": {
    "colab": {},
    "colab_type": "code",
    "id": "-kICiJpB_4H9"
   },
   "outputs": [],
   "source": [
    "import en_core_web_md  # There are easier ways to import spacy models, but not for colab\n",
    "from spacy.tokens import Doc"
   ]
  },
  {
   "cell_type": "code",
   "execution_count": null,
   "metadata": {
    "colab": {},
    "colab_type": "code",
    "id": "GSvJ_jnU_7hl"
   },
   "outputs": [],
   "source": [
    "nlp = en_core_web_md.load(disable=['tagger', 'parser', 'ner'])"
   ]
  },
  {
   "cell_type": "code",
   "execution_count": 37,
   "metadata": {
    "colab": {
     "base_uri": "https://localhost:8080/",
     "height": 903
    },
    "colab_type": "code",
    "id": "BqpUIlHnS5N4",
    "outputId": "8a571455-0b2a-49c4-d2cb-77d1da4eac08"
   },
   "outputs": [
    {
     "name": "stdout",
     "output_type": "stream",
     "text": [
      "[-2.5613e-01 -5.8044e-01  7.3699e-01  1.0224e-01  3.0633e-01  8.2543e-01\n",
      "  2.0214e-02  7.2938e-02  4.0591e-01  5.0618e-01  1.8421e-01  4.6015e-01\n",
      "  3.3065e-01 -1.5053e-01  6.3065e-02 -4.4431e-01 -7.1902e-02  1.9935e-01\n",
      " -5.2998e-02  3.1779e-01 -1.4263e-01  1.5533e-01  3.3776e-01 -1.5319e-01\n",
      " -8.7850e-02  1.4125e-01 -6.4250e-01 -2.0063e-02  3.8200e-01 -2.3199e-01\n",
      "  7.0890e-01 -3.3531e-01  4.7066e-01 -8.0234e-01 -2.6422e-01 -1.9988e-02\n",
      "  2.1466e-01 -2.0214e-01  1.2551e-01  1.3106e+00 -3.6580e-01  3.1551e-01\n",
      "  4.1100e-01  2.3948e-01  2.3006e-01  7.2661e-01  1.0138e-01  3.9562e-01\n",
      "  1.0115e-01 -4.7646e-02 -3.2069e-01  5.6321e-01  2.8439e-01 -2.0420e-01\n",
      "  6.3218e-01  8.1519e-02 -3.3584e-01  4.2714e-01  3.9305e-01  4.2263e-01\n",
      "  7.5474e-01 -2.4415e-01  1.6967e-01  6.3332e-01  6.7876e-01 -1.2870e+00\n",
      "  8.0630e-01 -2.1743e-01 -2.0185e-01  6.2304e-01 -1.1730e-01  5.7444e-01\n",
      " -2.4795e-01  9.7829e-02 -2.4434e-01 -3.3781e-01 -2.9350e-01 -3.3287e-01\n",
      "  3.4759e-01  8.3573e-02 -1.7077e-01 -6.4838e-02  3.2421e-01 -7.8467e-01\n",
      "  2.6655e-01 -3.5673e-01  9.6335e-01  4.1185e-02 -3.2752e-01 -2.6889e-01\n",
      " -7.3435e-02 -5.2413e-01  4.8731e-02 -7.5832e-02 -1.0911e-02  1.2431e+00\n",
      " -2.6578e-01 -2.9002e-01  2.1060e-01  3.3374e-02 -4.7119e-01 -3.0898e-01\n",
      "  4.0048e-01  2.1442e-01  2.9885e-02 -4.1926e-01  1.0002e+00 -5.8242e-01\n",
      "  3.8794e-01 -1.8581e-01  6.5638e-02 -9.2812e-01 -2.2129e-01 -1.2261e-01\n",
      "  8.1768e-01 -5.8867e-02  6.2210e-02 -1.7201e-01 -6.2586e-02  1.8723e-01\n",
      " -3.6349e-02  9.5947e-02  2.2519e-01 -3.2230e-01  3.9222e-01 -3.4604e-01\n",
      "  7.7258e-01 -5.0809e-01 -1.2575e-01 -1.0941e-01  2.6108e-01 -3.1366e-01\n",
      " -2.3453e-01  1.7091e-01 -7.2976e-01  1.6821e-01  1.4898e-01  1.1957e-01\n",
      " -2.3763e-01  5.8118e-02 -2.1701e+00  3.8178e-02  3.9558e-01  3.1910e-01\n",
      " -2.3986e-02 -2.4579e-01  1.8423e-01 -2.4629e-01  4.9162e-01 -5.5634e-02\n",
      "  1.0874e-01  2.6922e-01  2.7689e-01  1.7463e-01  6.1352e-01 -4.2668e-01\n",
      "  3.7819e-01 -4.5891e-01  4.9385e-01 -2.1813e-01 -2.6640e-01  6.0483e-01\n",
      "  5.7935e-02 -1.4011e-01  3.4351e-01  1.0884e-01  2.3097e-01 -1.8915e-01\n",
      "  5.7085e-01  1.8732e-01  3.4241e-01  1.2116e-01  1.2850e-01 -2.5109e-01\n",
      " -8.1215e-01 -3.2012e-01 -8.7769e-02 -5.1965e-01 -1.6670e-01 -9.9712e-01\n",
      " -2.6783e-01 -6.4495e-01 -8.0303e-02 -4.1933e-01 -2.5039e-01  3.7867e-02\n",
      "  4.8732e-01  1.2410e-01  4.1902e-01  6.1750e-01  2.9430e-01  4.7489e-01\n",
      " -3.7390e-01 -3.7893e-01 -3.6163e-01  1.8087e-01  2.1228e-01  7.6915e-01\n",
      "  8.4314e-02  2.9651e-01  4.1937e-05 -2.0844e-01  1.2065e-01  1.5048e-01\n",
      "  6.3898e-01 -6.3227e-01  1.3672e-01  4.6778e-01  6.4333e-01  5.7747e-01\n",
      " -1.3949e-01  9.6213e-02  3.1122e-03  4.4591e-01  1.4979e-02  1.0298e-01\n",
      " -1.9341e-01  3.3355e-02 -8.4310e-02  1.7021e-01 -4.4298e-01 -7.7529e-02\n",
      " -3.6328e-01  2.7908e-01  4.2524e-01 -4.2924e-01 -6.6251e-01  1.7692e-01\n",
      " -2.5762e-01 -2.5771e-01 -1.7190e-01 -2.2101e-03  6.8176e-02 -9.8719e-02\n",
      "  4.3295e-01  2.7423e-02 -4.9185e-02 -2.3505e-02  9.5238e-01  1.2283e-02\n",
      "  2.1610e-01 -1.4263e-01 -1.1390e+00 -4.6599e-01  2.0868e-01  5.1458e-01\n",
      "  1.6683e-02 -5.6320e-01 -1.0471e-01 -4.9151e-01 -4.5850e-01 -1.7954e-01\n",
      " -2.7450e-01  6.4885e-01 -1.3360e-01  4.5866e-01  1.8835e-01  2.2054e-01\n",
      "  1.6657e-01 -1.5053e-02 -1.9662e-01 -1.2389e-01 -1.2536e+00 -5.0888e-01\n",
      "  2.0747e-01  4.9005e-01 -3.5919e-01 -1.0353e-01 -4.4302e-01  4.3525e-01\n",
      " -1.2347e-02  1.4503e-02 -4.4328e-01  3.2379e-01  4.4881e-01 -2.0649e-01\n",
      " -7.0943e-02 -1.5007e-01  7.9022e-02  9.5702e-01  2.7648e-01 -5.4444e-02\n",
      " -8.1054e-01 -3.4024e-01  2.4129e-01  4.5056e-01  2.9362e-01  9.1667e-01\n",
      " -2.3756e-01  9.1819e-02  8.5017e-01 -7.4455e-02 -4.8788e-01 -4.1860e-02\n",
      "  1.0966e-01 -1.1141e-01  4.5306e-01 -7.1920e-01  3.9163e-01 -2.7233e-01]\n",
      "Feature Dimensions: (25000, 300)\n"
     ]
    }
   ],
   "source": [
    "doc = nlp('Tacos are my favourite food.')\n",
    "print(doc[0].vector)\n",
    "print(f'Feature Dimensions: {(len(train_df), doc[0].vector.shape[0])}')"
   ]
  },
  {
   "cell_type": "code",
   "execution_count": null,
   "metadata": {
    "colab": {},
    "colab_type": "code",
    "id": "rKLzjv9XADAV"
   },
   "outputs": [],
   "source": [
    "glove_train_x = np.array([Doc(nlp.vocab, words=sent).vector.tolist() for sent in tqdm(train_df.tokenized, disable=True)])\n",
    "glove_test_x = np.array([Doc(nlp.vocab, words=sent).vector.tolist() for sent in tqdm(test_df.tokenized, disable=True)])"
   ]
  },
  {
   "cell_type": "markdown",
   "metadata": {
    "colab_type": "text",
    "id": "j39eL0VeMa9w"
   },
   "source": [
    "### Training"
   ]
  },
  {
   "cell_type": "code",
   "execution_count": null,
   "metadata": {
    "colab": {},
    "colab_type": "code",
    "id": "C-dRC1--Azrx"
   },
   "outputs": [],
   "source": [
    "glove_model = build_model(300)"
   ]
  },
  {
   "cell_type": "code",
   "execution_count": 40,
   "metadata": {
    "colab": {
     "base_uri": "https://localhost:8080/",
     "height": 382
    },
    "colab_type": "code",
    "id": "FeOqV-oLAzkh",
    "outputId": "6264d0aa-1174-4983-a18a-e2ce1d79e720"
   },
   "outputs": [
    {
     "name": "stdout",
     "output_type": "stream",
     "text": [
      "Train on 25000 samples, validate on 10000 samples\n",
      "Epoch 1/10\n",
      "25000/25000 [==============================] - 2s 96us/sample - loss: 0.7113 - acc: 0.5029 - val_loss: 0.6922 - val_acc: 0.5009\n",
      "Epoch 2/10\n",
      "25000/25000 [==============================] - 2s 86us/sample - loss: 0.7059 - acc: 0.4998 - val_loss: 0.6900 - val_acc: 0.5022\n",
      "Epoch 3/10\n",
      "25000/25000 [==============================] - 2s 86us/sample - loss: 0.6970 - acc: 0.5197 - val_loss: 0.6775 - val_acc: 0.7121\n",
      "Epoch 4/10\n",
      "25000/25000 [==============================] - 2s 86us/sample - loss: 0.6574 - acc: 0.6154 - val_loss: 0.5790 - val_acc: 0.7667\n",
      "Epoch 5/10\n",
      "25000/25000 [==============================] - 2s 85us/sample - loss: 0.5425 - acc: 0.7441 - val_loss: 0.4668 - val_acc: 0.7897\n",
      "Epoch 6/10\n",
      "25000/25000 [==============================] - 2s 86us/sample - loss: 0.4885 - acc: 0.7757 - val_loss: 0.4380 - val_acc: 0.7992\n",
      "Epoch 7/10\n",
      "25000/25000 [==============================] - 2s 86us/sample - loss: 0.4745 - acc: 0.7827 - val_loss: 0.4257 - val_acc: 0.8084\n",
      "Epoch 8/10\n",
      "25000/25000 [==============================] - 2s 85us/sample - loss: 0.4563 - acc: 0.7946 - val_loss: 0.4172 - val_acc: 0.8129\n",
      "Epoch 9/10\n",
      "25000/25000 [==============================] - 2s 85us/sample - loss: 0.4495 - acc: 0.7984 - val_loss: 0.4102 - val_acc: 0.8154\n",
      "Epoch 10/10\n",
      "25000/25000 [==============================] - 2s 86us/sample - loss: 0.4455 - acc: 0.7972 - val_loss: 0.4037 - val_acc: 0.8194\n"
     ]
    }
   ],
   "source": [
    "glove_history = glove_model.fit(\n",
    "    x=glove_train_x, \n",
    "    y=train_df.sentiment,\n",
    "    epochs=10,\n",
    "    validation_data=(glove_test_x, test_df.sentiment)\n",
    "    )"
   ]
  },
  {
   "cell_type": "markdown",
   "metadata": {
    "colab_type": "text",
    "id": "mb8ltj-wMdgl"
   },
   "source": [
    "### Prediction"
   ]
  },
  {
   "cell_type": "code",
   "execution_count": 41,
   "metadata": {
    "colab": {
     "base_uri": "https://localhost:8080/",
     "height": 104
    },
    "colab_type": "code",
    "id": "BKI-bX9ivIqO",
    "outputId": "a6af5d7a-7378-4990-9d56-3c8e8c29871f"
   },
   "outputs": [
    {
     "name": "stdout",
     "output_type": "stream",
     "text": [
      "0.09552 | Tacos in England is absolutely terrible .\n",
      "0.65735 | Tacos in England absolutely terible .\n",
      "0.07198 | Tacos in Prague are not so bad .\n",
      "0.61209 | Mexican food in SD is the best .\n",
      "0.55832 | I'm a big fan of tacos .\n"
     ]
    }
   ],
   "source": [
    "def glove_predict(text):\n",
    "  x = np.array([Doc(nlp.vocab, words=text.lower().split()).vector.tolist()])\n",
    "  return glove_model.predict(x)[0][0]\n",
    "\n",
    "def glove_print(text):\n",
    "  print(f'{swe_predict(text):<.5f} | {text}')\n",
    "\n",
    "swe_print(t1)\n",
    "swe_print(t2)\n",
    "swe_print(t3)\n",
    "swe_print(t4)\n",
    "swe_print(t5)"
   ]
  },
  {
   "cell_type": "markdown",
   "metadata": {
    "colab_type": "text",
    "id": "ulRI1c48MgYb"
   },
   "source": [
    "## Conclusion\n",
    "\n",
    "This was by no means a comprehensive comparison of NLP feature selection. But we can see that the features we use can make a large difference"
   ]
  },
  {
   "cell_type": "code",
   "execution_count": 42,
   "metadata": {
    "colab": {
     "base_uri": "https://localhost:8080/",
     "height": 121
    },
    "colab_type": "code",
    "id": "8CFDDgfYv7ML",
    "outputId": "29100441-ec4f-4666-89be-e2d639b7e3ba"
   },
   "outputs": [
    {
     "name": "stdout",
     "output_type": "stream",
     "text": [
      "O-H   | TFIDF | SWE   | GloVe | Text\n",
      "0.175 | 0.279 | 0.096 | 0.196 | Tacos in England is absolutely terrible .\n",
      "0.571 | 0.713 | 0.657 | 0.079 | Tacos in England absolutely terible .\n",
      "0.180 | 0.348 | 0.072 | 0.169 | Tacos in Prague are not so bad .\n",
      "0.642 | 0.800 | 0.612 | 0.938 | Mexican food in SD is the best .\n",
      "0.432 | 0.725 | 0.558 | 0.896 | I'm a big fan of tacos .\n"
     ]
    }
   ],
   "source": [
    "print(f\"{'O-H':<5} | {'TFIDF':<5} | {'SWE':<5} | {'GloVe':<5} | {'Text'}\")\n",
    "print(f\"{oh_predict(t1):.3f} | {tfidf_predict(t1):.3f} | {swe_predict(t1):.3f} | {glove_predict(t1):.3f} | {t1}\")\n",
    "print(f\"{oh_predict(t2):.3f} | {tfidf_predict(t2):.3f} | {swe_predict(t2):.3f} | {glove_predict(t2):.3f} | {t2}\")\n",
    "print(f\"{oh_predict(t3):.3f} | {tfidf_predict(t3):.3f} | {swe_predict(t3):.3f} | {glove_predict(t3):.3f} | {t3}\")\n",
    "print(f\"{oh_predict(t4):.3f} | {tfidf_predict(t4):.3f} | {swe_predict(t4):.3f} | {glove_predict(t4):.3f} | {t4}\")\n",
    "print(f\"{oh_predict(t5):.3f} | {tfidf_predict(t5):.3f} | {swe_predict(t5):.3f} | {glove_predict(t5):.3f} | {t5}\")"
   ]
  },
  {
   "cell_type": "code",
   "execution_count": 46,
   "metadata": {
    "colab": {
     "base_uri": "https://localhost:8080/",
     "height": 573
    },
    "colab_type": "code",
    "id": "oA-yZG87N48E",
    "outputId": "ce9594f2-07c1-4c56-eddf-4da1dfa082dc"
   },
   "outputs": [
    {
     "data": {
      "image/png": "[encoded data removed]",
      "text/plain": [
       "<Figure size 1080x288 with 1 Axes>"
      ]
     },
     "metadata": {
      "tags": []
     },
     "output_type": "display_data"
    },
    {
     "data": {
      "image/png": "[encoded data removed]",
      "text/plain": [
       "<Figure size 1080x288 with 1 Axes>"
      ]
     },
     "metadata": {
      "tags": []
     },
     "output_type": "display_data"
    }
   ],
   "source": [
    "import matplotlib.pyplot as plt\n",
    "# Plot training & validation accuracy values\n",
    "fig = plt.figure(figsize=(15, 4))\n",
    "plt.plot(glove_history.history['val_acc'], color='red')\n",
    "plt.plot(swe_history.history['val_acc'], color='blue')\n",
    "plt.plot(tfidf_history.history['val_acc'], color='green')\n",
    "plt.plot(oh_history.history['val_acc'], color='orange')\n",
    "\n",
    "plt.plot(glove_history.history['acc'], ls='--', color='red')\n",
    "plt.plot(swe_history.history['acc'], ls='--', color='blue')\n",
    "plt.plot(tfidf_history.history['acc'], ls='--', color='green')\n",
    "plt.plot(oh_history.history['acc'], ls='--', color='orange')\n",
    "\n",
    "plt.title('Model accuracy')\n",
    "plt.ylabel('Accuracy')\n",
    "plt.xlabel('Epoch')\n",
    "plt.legend(['GloVe Val', 'SWE Val', 'TFIDF Val', 'One-Hot Val', 'GloVe', 'SWE', 'TFIDF', 'One-Hot'], loc='best')\n",
    "plt.show()\n",
    "\n",
    "# Plot training & validation loss values\n",
    "fig = plt.figure(figsize=(15, 4))\n",
    "plt.plot(glove_history.history['val_loss'], color='red')\n",
    "plt.plot(swe_history.history['val_loss'], color='blue')\n",
    "plt.plot(tfidf_history.history['val_loss'], color='green')\n",
    "plt.plot(oh_history.history['val_loss'], color='orange')\n",
    "\n",
    "plt.plot(glove_history.history['loss'], ls='--', color='red')\n",
    "plt.plot(swe_history.history['loss'], ls='--', color='blue')\n",
    "plt.plot(tfidf_history.history['loss'], ls='--', color='green')\n",
    "plt.plot(oh_history.history['loss'], ls='--', color='orange')\n",
    "\n",
    "plt.title('Model loss')\n",
    "plt.ylabel('Loss')\n",
    "plt.xlabel('Epoch')\n",
    "plt.legend(['GloVe Val', 'SWE Val', 'TFIDF Val', 'One-Hot Val', 'GloVe', 'SWE', 'TFIDF', 'One-Hot'], loc='best')\n",
    "plt.show()\n"
   ]
  },
  {
   "cell_type": "markdown",
   "metadata": {
    "colab_type": "text",
    "id": "Y6oXDX9bFRa8"
   },
   "source": [
    "## Going Further\n",
    "\n",
    "Now, if you know more about NLP, you probably know that this is really far from being comprehensive, or being state-of-the-art anymore. Word embeddings and language models have come a long way since _GloVe_ and _Word2Vec_.\n",
    "\n",
    "[__fastText__](https://fasttext.cc/)\n",
    "\n",
    "Facebook's open source system for word embeddings works in much the same way as _GloVe_, however, they are not static embeddings. They break down the words into Subword embeddings and thus work well with different spellings, misspellings, new words, different morphology, etc.\n",
    "\n",
    "[__BERT__](https://arxiv.org/abs/1810.04805)\n",
    "\n",
    "It's likely you have heard of _BERT_. _BERT_ has completely revolutionised NLP in the past couple years. Using an attention transformer network, BERT took a huge step towards solving the huge problem in NLP of _semantics_ and _context_. It creates dynamic embeddings of words based on their context, picking up differing senses.\n",
    "\n",
    "Reearchers were able to beat almost every state-of-the-art metric out there with BERT embeddings. But a huge problem is that the models are quite large, and quite expensive to train and are sometimes overkill.\n",
    "\n",
    "A smaller version of _BERT_ I quite like is [_RoBERTa_](https://pytorch.org/hub/pytorch_fairseq_roberta/)\n",
    "\n"
   ]
  }
 ],
 "metadata": {
  "colab": {
   "collapsed_sections": [],
   "machine_shape": "hm",
   "name": "nlp_feature_selection.ipynb",
   "provenance": []
  },
  "kernelspec": {
   "display_name": "Python 3",
   "language": "python",
   "name": "python3"
  },
  "language_info": {
   "codemirror_mode": {
    "name": "ipython",
    "version": 3
   },
   "file_extension": ".py",
   "mimetype": "text/x-python",
   "name": "python",
   "nbconvert_exporter": "python",
   "pygments_lexer": "ipython3",
   "version": "3.7.6"
  }
 },
 "nbformat": 4,
 "nbformat_minor": 4
}
